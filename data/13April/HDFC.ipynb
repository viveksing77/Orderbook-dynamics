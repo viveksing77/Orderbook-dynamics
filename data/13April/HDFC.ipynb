{
 "cells": [
  {
   "cell_type": "code",
   "execution_count": 1,
   "metadata": {},
   "outputs": [
    {
     "name": "stderr",
     "output_type": "stream",
     "text": [
      "c:\\users\\vivek\\appdata\\local\\programs\\python\\python37\\lib\\site-packages\\statsmodels\\tools\\_testing.py:19: FutureWarning: pandas.util.testing is deprecated. Use the functions in the public API at pandas.testing instead.\n",
      "  import pandas.util.testing as tm\n"
     ]
    }
   ],
   "source": [
    "import pandas as pd\n",
    "import seaborn as sns\n",
    "import scipy.stats\n",
    "import numpy as np\n",
    "import matplotlib.pyplot as plt"
   ]
  },
  {
   "cell_type": "code",
   "execution_count": 2,
   "metadata": {},
   "outputs": [],
   "source": [
    "df = pd.read_csv('Downloads/13April/HDFC_new.csv')"
   ]
  },
  {
   "cell_type": "code",
   "execution_count": 3,
   "metadata": {},
   "outputs": [],
   "source": [
    "del df['Unnamed: 0']"
   ]
  },
  {
   "cell_type": "code",
   "execution_count": 4,
   "metadata": {},
   "outputs": [],
   "source": [
    "buy = df['buy']\n",
    "sell = df['sell']\n",
    "last_price = df['last_price']\n",
    "last_quantity = df['last_quantity']\n",
    "change = df['change']\n",
    "#average_price = df['average_price']\n",
    "buy_quantity = df['buy_quantity']\n",
    "sell_quantity = df['sell_quantity']\n",
    "#agg_vol = df['agg_vol']\n",
    "last_trade_time_ = df['last_trade_time_']\n",
    "bid_qty_1 = df['bid_qty_1']\n",
    "bid_price_1 = df['bid_price_1']\n",
    "bid_order_1 = df['bid_order_1']\n",
    "bid_qty_2 = df['bid_qty_2']\n",
    "bid_price_2 = df['bid_price_2']\n",
    "bid_order_2 = df['bid_order_2']\n",
    "bid_qty_3 = df['bid_qty_3']\n",
    "bid_price_3 = df['bid_price_3']\n",
    "bid_order_3 = df['bid_order_3']\n",
    "bid_qty_4 = df['bid_qty_4']\n",
    "bid_price_4 = df['bid_price_4']\n",
    "bid_order_4 = df['bid_order_4']\n",
    "bid_qty_5 = df['bid_qty_5']\n",
    "bid_price_5 = df['bid_price_5']\n",
    "bid_order_5 = df['bid_order_5']\n",
    "ask_qty_1 = df['ask_qty_1']\n",
    "ask_price_1 = df['ask_price_1']\n",
    "ask_order_1 = df['ask_order_1']\n",
    "ask_qty_2 = df['ask_qty_2']\n",
    "ask_price_2 = df['ask_price_2']\n",
    "ask_order_2 = df['ask_order_2']\n",
    "ask_qty_3 = df['ask_qty_3']\n",
    "ask_price_3 = df['ask_price_3']\n",
    "ask_order_3 = df['ask_order_3']\n",
    "ask_qty_4 = df['ask_qty_4']\n",
    "ask_price_4 = df['ask_price_4']\n",
    "ask_order_4 = df['ask_order_4']\n",
    "ask_qty_5 = df['ask_qty_5']\n",
    "ask_price_5 = df['ask_price_5']\n",
    "ask_order_5 = df['ask_order_5']\n",
    "total_bid_qty = df['total_bid_qty']\n",
    "\n",
    "\n",
    "\n",
    "total_ask_qty = df['total_ask_qty']\n",
    "OI = df['OI']\n",
    "CR = df['CR']\n",
    "ratio = df['ratio']\n",
    "reverse = df['reverse']\n",
    "change_ratio = df['change_ratio']\n",
    "change_reverse = df['change_reverse']\n",
    "RC_CR = df['RC_CR']\n",
    "OI_new = df['OI_new']\n",
    "diff = df['diff']\n",
    "\n",
    "full_diff = df['full_diff']\n",
    "mid_price = df['mid_price']"
   ]
  },
  {
   "cell_type": "code",
   "execution_count": 5,
   "metadata": {},
   "outputs": [],
   "source": [
    "mid_price_diff = []\n",
    "for i in range(len(mid_price)-1):\n",
    "    x = mid_price[i+1] - mid_price[i]\n",
    "    mid_price_diff.append(x)"
   ]
  },
  {
   "cell_type": "code",
   "execution_count": 6,
   "metadata": {},
   "outputs": [],
   "source": [
    "full_diff_change = []\n",
    "for i in range(len(full_diff)-1):\n",
    "    x = full_diff[i+1] - full_diff[i]\n",
    "    full_diff_change.append(x)"
   ]
  },
  {
   "cell_type": "code",
   "execution_count": 7,
   "metadata": {},
   "outputs": [
    {
     "data": {
      "text/plain": [
       "LinregressResult(slope=0.00037734039904566857, intercept=-0.0010439782003855702, rvalue=0.5108040578678786, pvalue=2.4387194870109848e-21, stderr=3.678885980265227e-05)"
      ]
     },
     "execution_count": 7,
     "metadata": {},
     "output_type": "execute_result"
    }
   ],
   "source": [
    "lin = scipy.stats.linregress( full_diff_change[:300] , mid_price_diff[:300] ) \n",
    "lin"
   ]
  },
  {
   "cell_type": "code",
   "execution_count": 8,
   "metadata": {},
   "outputs": [
    {
     "data": {
      "text/plain": [
       "<matplotlib.collections.PathCollection at 0x1e9168481c8>"
      ]
     },
     "execution_count": 8,
     "metadata": {},
     "output_type": "execute_result"
    },
    {
     "data": {
      "image/png": "[encoded data removed]",
      "text/plain": [
       "<Figure size 432x288 with 1 Axes>"
      ]
     },
     "metadata": {
      "needs_background": "light"
     },
     "output_type": "display_data"
    }
   ],
   "source": [
    "plt.scatter(full_diff_change[:300] , mid_price_diff[:300])\n"
   ]
  },
  {
   "cell_type": "code",
   "execution_count": 9,
   "metadata": {},
   "outputs": [
    {
     "data": {
      "text/plain": [
       "LinregressResult(slope=8.225128380357398e-05, intercept=0.0006330272272122989, rvalue=0.4015751624538679, pvalue=4.717862195613052e-13, stderr=1.0866275483685813e-05)"
      ]
     },
     "execution_count": 9,
     "metadata": {},
     "output_type": "execute_result"
    }
   ],
   "source": [
    "lin = scipy.stats.linregress( full_diff_change[2100:2400] , mid_price_diff[2100:2400] ) \n",
    "lin"
   ]
  },
  {
   "cell_type": "code",
   "execution_count": 10,
   "metadata": {},
   "outputs": [
    {
     "data": {
      "text/plain": [
       "<matplotlib.collections.PathCollection at 0x1e919268308>"
      ]
     },
     "execution_count": 10,
     "metadata": {},
     "output_type": "execute_result"
    },
    {
     "data": {
      "image/png": "[encoded data removed]",
      "text/plain": [
       "<Figure size 432x288 with 1 Axes>"
      ]
     },
     "metadata": {
      "needs_background": "light"
     },
     "output_type": "display_data"
    }
   ],
   "source": [
    "plt.scatter(full_diff_change[2100:2400] , mid_price_diff[2100:2400] )"
   ]
  },
  {
   "cell_type": "code",
   "execution_count": 11,
   "metadata": {},
   "outputs": [
    {
     "data": {
      "text/plain": [
       "LinregressResult(slope=3.4700022915245415e-05, intercept=-0.002536832791557961, rvalue=0.2503486222151221, pvalue=1.1432432429656797e-05, stderr=7.773590440234397e-06)"
      ]
     },
     "execution_count": 11,
     "metadata": {},
     "output_type": "execute_result"
    }
   ],
   "source": [
    "lin = scipy.stats.linregress( full_diff_change[4200:4500] , mid_price_diff[4200:4500] ) \n",
    "lin"
   ]
  },
  {
   "cell_type": "code",
   "execution_count": 12,
   "metadata": {},
   "outputs": [
    {
     "data": {
      "text/plain": [
       "<matplotlib.collections.PathCollection at 0x1e9192e7c48>"
      ]
     },
     "execution_count": 12,
     "metadata": {},
     "output_type": "execute_result"
    },
    {
     "data": {
      "image/png": "[encoded data removed]",
      "text/plain": [
       "<Figure size 432x288 with 1 Axes>"
      ]
     },
     "metadata": {
      "needs_background": "light"
     },
     "output_type": "display_data"
    }
   ],
   "source": [
    "plt.scatter(full_diff_change[4200:4500] , mid_price_diff[4200:4500])"
   ]
  },
  {
   "cell_type": "code",
   "execution_count": 13,
   "metadata": {},
   "outputs": [
    {
     "data": {
      "text/plain": [
       "LinregressResult(slope=0.00024090393196687522, intercept=-0.004639290458397019, rvalue=0.6296409658832616, pvalue=1.547798229426217e-34, stderr=1.7218694396846007e-05)"
      ]
     },
     "execution_count": 13,
     "metadata": {},
     "output_type": "execute_result"
    }
   ],
   "source": [
    "lin = scipy.stats.linregress( full_diff_change[6300:6600] , mid_price_diff[6300:6600] ) \n",
    "lin"
   ]
  },
  {
   "cell_type": "code",
   "execution_count": 14,
   "metadata": {},
   "outputs": [
    {
     "data": {
      "text/plain": [
       "<matplotlib.collections.PathCollection at 0x1e91935b248>"
      ]
     },
     "execution_count": 14,
     "metadata": {},
     "output_type": "execute_result"
    },
    {
     "data": {
      "image/png": "[encoded data removed]",
      "text/plain": [
       "<Figure size 432x288 with 1 Axes>"
      ]
     },
     "metadata": {
      "needs_background": "light"
     },
     "output_type": "display_data"
    }
   ],
   "source": [
    "plt.scatter( full_diff_change[6300:6600] , mid_price_diff[6300:6600] )"
   ]
  },
  {
   "cell_type": "code",
   "execution_count": 15,
   "metadata": {},
   "outputs": [
    {
     "data": {
      "text/plain": [
       "LinregressResult(slope=0.00012093076581726234, intercept=0.004283566406956687, rvalue=0.40551695208860644, pvalue=2.653065574171256e-13, stderr=1.5790920190653655e-05)"
      ]
     },
     "execution_count": 15,
     "metadata": {},
     "output_type": "execute_result"
    }
   ],
   "source": [
    "lin = scipy.stats.linregress( full_diff_change[8400:8700] , mid_price_diff[8400:8700] ) \n",
    "lin"
   ]
  },
  {
   "cell_type": "code",
   "execution_count": 16,
   "metadata": {},
   "outputs": [
    {
     "data": {
      "text/plain": [
       "<matplotlib.collections.PathCollection at 0x1e9193c30c8>"
      ]
     },
     "execution_count": 16,
     "metadata": {},
     "output_type": "execute_result"
    },
    {
     "data": {
      "image/png": "[encoded data removed]",
      "text/plain": [
       "<Figure size 432x288 with 1 Axes>"
      ]
     },
     "metadata": {
      "needs_background": "light"
     },
     "output_type": "display_data"
    }
   ],
   "source": [
    "plt.scatter( full_diff_change[8400:8700] , mid_price_diff[8400:8700] )"
   ]
  },
  {
   "cell_type": "code",
   "execution_count": 17,
   "metadata": {},
   "outputs": [
    {
     "data": {
      "text/plain": [
       "LinregressResult(slope=0.00021039330094259538, intercept=0.0013727847465082078, rvalue=0.667789537845254, pvalue=4.24302414598134e-40, stderr=1.3585056217930987e-05)"
      ]
     },
     "execution_count": 17,
     "metadata": {},
     "output_type": "execute_result"
    }
   ],
   "source": [
    "lin = scipy.stats.linregress( full_diff_change[10500:10800] , mid_price_diff[10500:10800] ) \n",
    "lin"
   ]
  },
  {
   "cell_type": "code",
   "execution_count": 18,
   "metadata": {},
   "outputs": [
    {
     "data": {
      "text/plain": [
       "<matplotlib.collections.PathCollection at 0x1e91943a0c8>"
      ]
     },
     "execution_count": 18,
     "metadata": {},
     "output_type": "execute_result"
    },
    {
     "data": {
      "image/png": "[encoded data removed]",
      "text/plain": [
       "<Figure size 432x288 with 1 Axes>"
      ]
     },
     "metadata": {
      "needs_background": "light"
     },
     "output_type": "display_data"
    }
   ],
   "source": [
    "plt.scatter( full_diff_change[10500:10800] , mid_price_diff[10500:10800] )"
   ]
  },
  {
   "cell_type": "code",
   "execution_count": 19,
   "metadata": {},
   "outputs": [
    {
     "data": {
      "text/plain": [
       "LinregressResult(slope=7.664549949716795e-05, intercept=0.009779473573526959, rvalue=0.3548697828335157, pvalue=2.483518941229523e-10, stderr=1.1697201645331607e-05)"
      ]
     },
     "execution_count": 19,
     "metadata": {},
     "output_type": "execute_result"
    }
   ],
   "source": [
    "lin = scipy.stats.linregress( full_diff_change[12600:12900] , mid_price_diff[12600:12900] ) \n",
    "lin"
   ]
  },
  {
   "cell_type": "code",
   "execution_count": 20,
   "metadata": {},
   "outputs": [
    {
     "data": {
      "text/plain": [
       "<matplotlib.collections.PathCollection at 0x1e919495b88>"
      ]
     },
     "execution_count": 20,
     "metadata": {},
     "output_type": "execute_result"
    },
    {
     "data": {
      "image/png": "[encoded data removed]",
      "text/plain": [
       "<Figure size 432x288 with 1 Axes>"
      ]
     },
     "metadata": {
      "needs_background": "light"
     },
     "output_type": "display_data"
    }
   ],
   "source": [
    "plt.scatter( full_diff_change[12600:12900] , mid_price_diff[12600:12900] )"
   ]
  },
  {
   "cell_type": "code",
   "execution_count": 21,
   "metadata": {},
   "outputs": [
    {
     "data": {
      "text/plain": [
       "LinregressResult(slope=1.961277611777481e-05, intercept=0.003316571171708095, rvalue=0.13173241998102805, pvalue=0.02248337035042427, stderr=8.549425651423429e-06)"
      ]
     },
     "execution_count": 21,
     "metadata": {},
     "output_type": "execute_result"
    }
   ],
   "source": [
    "lin = scipy.stats.linregress( full_diff_change[14700:15000] , mid_price_diff[14700:15000] ) \n",
    "lin"
   ]
  },
  {
   "cell_type": "code",
   "execution_count": 22,
   "metadata": {},
   "outputs": [
    {
     "data": {
      "text/plain": [
       "<matplotlib.collections.PathCollection at 0x1e919500188>"
      ]
     },
     "execution_count": 22,
     "metadata": {},
     "output_type": "execute_result"
    },
    {
     "data": {
      "image/png": "[encoded data removed]",
      "text/plain": [
       "<Figure size 432x288 with 1 Axes>"
      ]
     },
     "metadata": {
      "needs_background": "light"
     },
     "output_type": "display_data"
    }
   ],
   "source": [
    "plt.scatter( full_diff_change[14700:15000] , mid_price_diff[14700:15000] )"
   ]
  },
  {
   "cell_type": "code",
   "execution_count": 23,
   "metadata": {},
   "outputs": [
    {
     "data": {
      "text/plain": [
       "LinregressResult(slope=2.468623221389977e-05, intercept=-0.0052805739948406675, rvalue=0.10747386459218684, pvalue=0.0630102768680564, stderr=1.3228817535632415e-05)"
      ]
     },
     "execution_count": 23,
     "metadata": {},
     "output_type": "execute_result"
    }
   ],
   "source": [
    "lin = scipy.stats.linregress( full_diff_change[16800:17100] , mid_price_diff[16800:17100] ) \n",
    "lin"
   ]
  },
  {
   "cell_type": "code",
   "execution_count": 24,
   "metadata": {},
   "outputs": [
    {
     "data": {
      "text/plain": [
       "<matplotlib.collections.PathCollection at 0x1e916843e48>"
      ]
     },
     "execution_count": 24,
     "metadata": {},
     "output_type": "execute_result"
    },
    {
     "data": {
      "image/png": "[encoded data removed]",
      "text/plain": [
       "<Figure size 432x288 with 1 Axes>"
      ]
     },
     "metadata": {
      "needs_background": "light"
     },
     "output_type": "display_data"
    }
   ],
   "source": [
    "plt.scatter( full_diff_change[16800:17100] , mid_price_diff[16800:17100] )"
   ]
  },
  {
   "cell_type": "code",
   "execution_count": 25,
   "metadata": {},
   "outputs": [
    {
     "data": {
      "text/plain": [
       "LinregressResult(slope=2.6286561934501144e-05, intercept=-0.016994753705758973, rvalue=0.10594790495555932, pvalue=0.06686628623253973, stderr=1.4291638753641249e-05)"
      ]
     },
     "execution_count": 25,
     "metadata": {},
     "output_type": "execute_result"
    }
   ],
   "source": [
    "lin = scipy.stats.linregress( full_diff_change[18900:19200] , mid_price_diff[18900:19200] ) \n",
    "lin"
   ]
  },
  {
   "cell_type": "code",
   "execution_count": 26,
   "metadata": {},
   "outputs": [
    {
     "data": {
      "text/plain": [
       "<matplotlib.collections.PathCollection at 0x1e9195ae388>"
      ]
     },
     "execution_count": 26,
     "metadata": {},
     "output_type": "execute_result"
    },
    {
     "data": {
      "image/png": "[encoded data removed]",
      "text/plain": [
       "<Figure size 432x288 with 1 Axes>"
      ]
     },
     "metadata": {
      "needs_background": "light"
     },
     "output_type": "display_data"
    }
   ],
   "source": [
    "plt.scatter( full_diff_change[18900:19200] , mid_price_diff[18900:19200] )"
   ]
  },
  {
   "cell_type": "code",
   "execution_count": 27,
   "metadata": {},
   "outputs": [
    {
     "data": {
      "text/plain": [
       "LinregressResult(slope=1.3048300616225473e-05, intercept=0.010818498138429668, rvalue=0.07875012464380747, pvalue=0.173699730574071, stderr=9.568496940762282e-06)"
      ]
     },
     "execution_count": 27,
     "metadata": {},
     "output_type": "execute_result"
    }
   ],
   "source": [
    "lin = scipy.stats.linregress( full_diff_change[21000:21300] , mid_price_diff[21000:21300] ) \n",
    "lin"
   ]
  },
  {
   "cell_type": "code",
   "execution_count": 28,
   "metadata": {},
   "outputs": [
    {
     "data": {
      "text/plain": [
       "<matplotlib.collections.PathCollection at 0x1e919618808>"
      ]
     },
     "execution_count": 28,
     "metadata": {},
     "output_type": "execute_result"
    },
    {
     "data": {
      "image/png": "[encoded data removed]",
      "text/plain": [
       "<Figure size 432x288 with 1 Axes>"
      ]
     },
     "metadata": {
      "needs_background": "light"
     },
     "output_type": "display_data"
    }
   ],
   "source": [
    "plt.scatter( full_diff_change[21000:21300] , mid_price_diff[21000:21300] )"
   ]
  },
  {
   "cell_type": "code",
   "execution_count": 29,
   "metadata": {},
   "outputs": [
    {
     "data": {
      "text/plain": [
       "LinregressResult(slope=6.82189184815459e-05, intercept=-0.002196170651738532, rvalue=0.24566063237144134, pvalue=1.6825059937980495e-05, stderr=1.5593528157017312e-05)"
      ]
     },
     "execution_count": 29,
     "metadata": {},
     "output_type": "execute_result"
    }
   ],
   "source": [
    "lin = scipy.stats.linregress( full_diff_change[23100:23400] , mid_price_diff[23100:23400] ) \n",
    "lin"
   ]
  },
  {
   "cell_type": "code",
   "execution_count": 30,
   "metadata": {},
   "outputs": [
    {
     "data": {
      "text/plain": [
       "<matplotlib.collections.PathCollection at 0x1e919676348>"
      ]
     },
     "execution_count": 30,
     "metadata": {},
     "output_type": "execute_result"
    },
    {
     "data": {
      "image/png": "[encoded data removed]",
      "text/plain": [
       "<Figure size 432x288 with 1 Axes>"
      ]
     },
     "metadata": {
      "needs_background": "light"
     },
     "output_type": "display_data"
    }
   ],
   "source": [
    "plt.scatter( full_diff_change[23100:23400] , mid_price_diff[23100:23400] )"
   ]
  },
  {
   "cell_type": "code",
   "execution_count": 31,
   "metadata": {},
   "outputs": [
    {
     "data": {
      "text/plain": [
       "LinregressResult(slope=-0.0013261134886606216, intercept=-0.02911955334183878, rvalue=-0.8611137424095787, pvalue=0.0, stderr=4.496988825901488e-06)"
      ]
     },
     "execution_count": 31,
     "metadata": {},
     "output_type": "execute_result"
    }
   ],
   "source": [
    "lin = scipy.stats.linregress( full_diff_change , mid_price_diff ) \n",
    "lin"
   ]
  },
  {
   "cell_type": "code",
   "execution_count": 32,
   "metadata": {},
   "outputs": [
    {
     "data": {
      "text/plain": [
       "<matplotlib.collections.PathCollection at 0x1e9196df208>"
      ]
     },
     "execution_count": 32,
     "metadata": {},
     "output_type": "execute_result"
    },
    {
     "data": {
      "image/png": "[encoded data removed]",
      "text/plain": [
       "<Figure size 432x288 with 1 Axes>"
      ]
     },
     "metadata": {
      "needs_background": "light"
     },
     "output_type": "display_data"
    }
   ],
   "source": [
    "plt.scatter( full_diff_change , mid_price_diff  )"
   ]
  },
  {
   "cell_type": "code",
   "execution_count": null,
   "metadata": {},
   "outputs": [],
   "source": []
  },
  {
   "cell_type": "code",
   "execution_count": null,
   "metadata": {},
   "outputs": [],
   "source": []
  },
  {
   "cell_type": "code",
   "execution_count": null,
   "metadata": {},
   "outputs": [],
   "source": []
  },
  {
   "cell_type": "code",
   "execution_count": null,
   "metadata": {},
   "outputs": [],
   "source": []
  },
  {
   "cell_type": "code",
   "execution_count": null,
   "metadata": {},
   "outputs": [],
   "source": []
  },
  {
   "cell_type": "code",
   "execution_count": null,
   "metadata": {},
   "outputs": [],
   "source": []
  },
  {
   "cell_type": "code",
   "execution_count": null,
   "metadata": {},
   "outputs": [],
   "source": []
  },
  {
   "cell_type": "code",
   "execution_count": null,
   "metadata": {},
   "outputs": [],
   "source": []
  }
 ],
 "metadata": {
  "kernelspec": {
   "display_name": "Python 3",
   "language": "python",
   "name": "python3"
  },
  "language_info": {
   "codemirror_mode": {
    "name": "ipython",
    "version": 3
   },
   "file_extension": ".py",
   "mimetype": "text/x-python",
   "name": "python",
   "nbconvert_exporter": "python",
   "pygments_lexer": "ipython3",
   "version": "3.8.10"
  }
 },
 "nbformat": 4,
 "nbformat_minor": 4
}

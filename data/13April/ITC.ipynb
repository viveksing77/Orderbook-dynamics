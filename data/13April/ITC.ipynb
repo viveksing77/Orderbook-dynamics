{
 "cells": [
  {
   "cell_type": "code",
   "execution_count": 1,
   "metadata": {},
   "outputs": [
    {
     "name": "stderr",
     "output_type": "stream",
     "text": [
      "c:\\users\\vivek\\appdata\\local\\programs\\python\\python37\\lib\\site-packages\\statsmodels\\tools\\_testing.py:19: FutureWarning: pandas.util.testing is deprecated. Use the functions in the public API at pandas.testing instead.\n",
      "  import pandas.util.testing as tm\n"
     ]
    }
   ],
   "source": [
    "import pandas as pd\n",
    "import seaborn as sns\n",
    "import scipy.stats\n",
    "import numpy as np\n",
    "import matplotlib.pyplot as plt"
   ]
  },
  {
   "cell_type": "code",
   "execution_count": 2,
   "metadata": {},
   "outputs": [],
   "source": [
    "df = pd.read_csv('Downloads/13April/ITC_new.csv')"
   ]
  },
  {
   "cell_type": "code",
   "execution_count": 3,
   "metadata": {},
   "outputs": [],
   "source": [
    "del df['Unnamed: 0']"
   ]
  },
  {
   "cell_type": "code",
   "execution_count": 4,
   "metadata": {},
   "outputs": [],
   "source": [
    "buy = df['buy']\n",
    "sell = df['sell']\n",
    "last_price = df['last_price']\n",
    "last_quantity = df['last_quantity']\n",
    "change = df['change']\n",
    "#average_price = df['average_price']\n",
    "buy_quantity = df['buy_quantity']\n",
    "sell_quantity = df['sell_quantity']\n",
    "#agg_vol = df['agg_vol']\n",
    "last_trade_time_ = df['last_trade_time_']\n",
    "bid_qty_1 = df['bid_qty_1']\n",
    "bid_price_1 = df['bid_price_1']\n",
    "bid_order_1 = df['bid_order_1']\n",
    "bid_qty_2 = df['bid_qty_2']\n",
    "bid_price_2 = df['bid_price_2']\n",
    "bid_order_2 = df['bid_order_2']\n",
    "bid_qty_3 = df['bid_qty_3']\n",
    "bid_price_3 = df['bid_price_3']\n",
    "bid_order_3 = df['bid_order_3']\n",
    "bid_qty_4 = df['bid_qty_4']\n",
    "bid_price_4 = df['bid_price_4']\n",
    "bid_order_4 = df['bid_order_4']\n",
    "bid_qty_5 = df['bid_qty_5']\n",
    "bid_price_5 = df['bid_price_5']\n",
    "bid_order_5 = df['bid_order_5']\n",
    "ask_qty_1 = df['ask_qty_1']\n",
    "ask_price_1 = df['ask_price_1']\n",
    "ask_order_1 = df['ask_order_1']\n",
    "ask_qty_2 = df['ask_qty_2']\n",
    "ask_price_2 = df['ask_price_2']\n",
    "ask_order_2 = df['ask_order_2']\n",
    "ask_qty_3 = df['ask_qty_3']\n",
    "ask_price_3 = df['ask_price_3']\n",
    "ask_order_3 = df['ask_order_3']\n",
    "ask_qty_4 = df['ask_qty_4']\n",
    "ask_price_4 = df['ask_price_4']\n",
    "ask_order_4 = df['ask_order_4']\n",
    "ask_qty_5 = df['ask_qty_5']\n",
    "ask_price_5 = df['ask_price_5']\n",
    "ask_order_5 = df['ask_order_5']\n",
    "total_bid_qty = df['total_bid_qty']\n",
    "\n",
    "\n",
    "\n",
    "total_ask_qty = df['total_ask_qty']\n",
    "OI = df['OI']\n",
    "CR = df['CR']\n",
    "ratio = df['ratio']\n",
    "reverse = df['reverse']\n",
    "change_ratio = df['change_ratio']\n",
    "change_reverse = df['change_reverse']\n",
    "RC_CR = df['RC_CR']\n",
    "OI_new = df['OI_new']\n",
    "diff = df['diff']\n",
    "\n",
    "full_diff = df['full_diff']\n",
    "mid_price = df['mid_price']"
   ]
  },
  {
   "cell_type": "code",
   "execution_count": 5,
   "metadata": {},
   "outputs": [],
   "source": [
    "mid_price_diff = []\n",
    "for i in range(len(mid_price)-1):\n",
    "    x = mid_price[i+1] - mid_price[i]\n",
    "    mid_price_diff.append(x)"
   ]
  },
  {
   "cell_type": "code",
   "execution_count": 6,
   "metadata": {},
   "outputs": [],
   "source": [
    "full_diff_change = []\n",
    "for i in range(len(full_diff)-1):\n",
    "    x = full_diff[i+1] - full_diff[i]\n",
    "    full_diff_change.append(x)"
   ]
  },
  {
   "cell_type": "code",
   "execution_count": 7,
   "metadata": {},
   "outputs": [
    {
     "data": {
      "text/plain": [
       "LinregressResult(slope=4.172574648568879e-06, intercept=-0.0007986027173304509, rvalue=0.4984998638983543, pvalue=2.9906516180935413e-20, stderr=4.203342901887425e-07)"
      ]
     },
     "execution_count": 7,
     "metadata": {},
     "output_type": "execute_result"
    }
   ],
   "source": [
    "lin = scipy.stats.linregress( full_diff_change[:300] , mid_price_diff[:300] ) \n",
    "lin"
   ]
  },
  {
   "cell_type": "code",
   "execution_count": 8,
   "metadata": {},
   "outputs": [
    {
     "data": {
      "text/plain": [
       "<matplotlib.collections.PathCollection at 0x204b42ad1c8>"
      ]
     },
     "execution_count": 8,
     "metadata": {},
     "output_type": "execute_result"
    },
    {
     "data": {
      "image/png": "[encoded data removed]",
      "text/plain": [
       "<Figure size 432x288 with 1 Axes>"
      ]
     },
     "metadata": {
      "needs_background": "light"
     },
     "output_type": "display_data"
    }
   ],
   "source": [
    "plt.scatter(full_diff_change[:300] , mid_price_diff[:300])\n"
   ]
  },
  {
   "cell_type": "code",
   "execution_count": 9,
   "metadata": {},
   "outputs": [
    {
     "data": {
      "text/plain": [
       "LinregressResult(slope=2.4214206241511175e-06, intercept=-0.0011249873718547476, rvalue=0.442363824858171, pvalue=8.34384267922312e-16, stderr=2.843775977421362e-07)"
      ]
     },
     "execution_count": 9,
     "metadata": {},
     "output_type": "execute_result"
    }
   ],
   "source": [
    "lin = scipy.stats.linregress( full_diff_change[2100:2400] , mid_price_diff[2100:2400] ) \n",
    "lin"
   ]
  },
  {
   "cell_type": "code",
   "execution_count": 10,
   "metadata": {},
   "outputs": [
    {
     "data": {
      "text/plain": [
       "<matplotlib.collections.PathCollection at 0x204b42fd388>"
      ]
     },
     "execution_count": 10,
     "metadata": {},
     "output_type": "execute_result"
    },
    {
     "data": {
      "image/png": "[encoded data removed]",
      "text/plain": [
       "<Figure size 432x288 with 1 Axes>"
      ]
     },
     "metadata": {
      "needs_background": "light"
     },
     "output_type": "display_data"
    }
   ],
   "source": [
    "plt.scatter(full_diff_change[2100:2400] , mid_price_diff[2100:2400] )"
   ]
  },
  {
   "cell_type": "code",
   "execution_count": 11,
   "metadata": {},
   "outputs": [
    {
     "data": {
      "text/plain": [
       "LinregressResult(slope=2.422719653260697e-06, intercept=-0.0008546434264700025, rvalue=0.5028427930852303, pvalue=1.2489472208336525e-20, stderr=2.412495136389937e-07)"
      ]
     },
     "execution_count": 11,
     "metadata": {},
     "output_type": "execute_result"
    }
   ],
   "source": [
    "lin = scipy.stats.linregress( full_diff_change[4200:4500] , mid_price_diff[4200:4500] ) \n",
    "lin"
   ]
  },
  {
   "cell_type": "code",
   "execution_count": 12,
   "metadata": {},
   "outputs": [
    {
     "data": {
      "text/plain": [
       "<matplotlib.collections.PathCollection at 0x204b43e7048>"
      ]
     },
     "execution_count": 12,
     "metadata": {},
     "output_type": "execute_result"
    },
    {
     "data": {
      "image/png": "[encoded data removed]",
      "text/plain": [
       "<Figure size 432x288 with 1 Axes>"
      ]
     },
     "metadata": {
      "needs_background": "light"
     },
     "output_type": "display_data"
    }
   ],
   "source": [
    "plt.scatter(full_diff_change[4200:4500] , mid_price_diff[4200:4500])"
   ]
  },
  {
   "cell_type": "code",
   "execution_count": 13,
   "metadata": {},
   "outputs": [
    {
     "data": {
      "text/plain": [
       "LinregressResult(slope=3.3896270112474903e-06, intercept=0.000803515571860374, rvalue=0.7659920941577748, pvalue=3.943692507052038e-59, stderr=1.647893478562682e-07)"
      ]
     },
     "execution_count": 13,
     "metadata": {},
     "output_type": "execute_result"
    }
   ],
   "source": [
    "lin = scipy.stats.linregress( full_diff_change[6300:6600] , mid_price_diff[6300:6600] ) \n",
    "lin"
   ]
  },
  {
   "cell_type": "code",
   "execution_count": 14,
   "metadata": {},
   "outputs": [
    {
     "data": {
      "text/plain": [
       "<matplotlib.collections.PathCollection at 0x204b43870c8>"
      ]
     },
     "execution_count": 14,
     "metadata": {},
     "output_type": "execute_result"
    },
    {
     "data": {
      "image/png": "[encoded data removed]",
      "text/plain": [
       "<Figure size 432x288 with 1 Axes>"
      ]
     },
     "metadata": {
      "needs_background": "light"
     },
     "output_type": "display_data"
    }
   ],
   "source": [
    "plt.scatter( full_diff_change[6300:6600] , mid_price_diff[6300:6600] )"
   ]
  },
  {
   "cell_type": "code",
   "execution_count": 15,
   "metadata": {},
   "outputs": [
    {
     "data": {
      "text/plain": [
       "LinregressResult(slope=3.0043571686772503e-06, intercept=0.0002735615056653881, rvalue=0.7836479956015535, pvalue=1.423909748488378e-63, stderr=1.3796135123924353e-07)"
      ]
     },
     "execution_count": 15,
     "metadata": {},
     "output_type": "execute_result"
    }
   ],
   "source": [
    "lin = scipy.stats.linregress( full_diff_change[8400:8700] , mid_price_diff[8400:8700] ) \n",
    "lin"
   ]
  },
  {
   "cell_type": "code",
   "execution_count": 16,
   "metadata": {},
   "outputs": [
    {
     "data": {
      "text/plain": [
       "<matplotlib.collections.PathCollection at 0x204b44bacc8>"
      ]
     },
     "execution_count": 16,
     "metadata": {},
     "output_type": "execute_result"
    },
    {
     "data": {
      "image/png": "[encoded data removed]",
      "text/plain": [
       "<Figure size 432x288 with 1 Axes>"
      ]
     },
     "metadata": {
      "needs_background": "light"
     },
     "output_type": "display_data"
    }
   ],
   "source": [
    "plt.scatter( full_diff_change[8400:8700] , mid_price_diff[8400:8700] )"
   ]
  },
  {
   "cell_type": "code",
   "execution_count": 17,
   "metadata": {},
   "outputs": [
    {
     "data": {
      "text/plain": [
       "LinregressResult(slope=3.104876583472878e-06, intercept=-0.00022647955258196144, rvalue=0.6481126790673061, pvalue=3.944827666385788e-37, stderr=2.1133963444802061e-07)"
      ]
     },
     "execution_count": 17,
     "metadata": {},
     "output_type": "execute_result"
    }
   ],
   "source": [
    "lin = scipy.stats.linregress( full_diff_change[10500:10800] , mid_price_diff[10500:10800] ) \n",
    "lin"
   ]
  },
  {
   "cell_type": "code",
   "execution_count": 18,
   "metadata": {},
   "outputs": [
    {
     "data": {
      "text/plain": [
       "<matplotlib.collections.PathCollection at 0x204b451dbc8>"
      ]
     },
     "execution_count": 18,
     "metadata": {},
     "output_type": "execute_result"
    },
    {
     "data": {
      "image/png": "[encoded data removed]",
      "text/plain": [
       "<Figure size 432x288 with 1 Axes>"
      ]
     },
     "metadata": {
      "needs_background": "light"
     },
     "output_type": "display_data"
    }
   ],
   "source": [
    "plt.scatter( full_diff_change[10500:10800] , mid_price_diff[10500:10800] )"
   ]
  },
  {
   "cell_type": "code",
   "execution_count": 19,
   "metadata": {},
   "outputs": [
    {
     "data": {
      "text/plain": [
       "LinregressResult(slope=3.117360391744938e-06, intercept=0.0002720750127129067, rvalue=0.4727106981740519, pvalue=4.166507653074743e-18, stderr=3.366407228864313e-07)"
      ]
     },
     "execution_count": 19,
     "metadata": {},
     "output_type": "execute_result"
    }
   ],
   "source": [
    "lin = scipy.stats.linregress( full_diff_change[12600:12900] , mid_price_diff[12600:12900] ) \n",
    "lin"
   ]
  },
  {
   "cell_type": "code",
   "execution_count": 20,
   "metadata": {},
   "outputs": [
    {
     "data": {
      "text/plain": [
       "<matplotlib.collections.PathCollection at 0x204b458af48>"
      ]
     },
     "execution_count": 20,
     "metadata": {},
     "output_type": "execute_result"
    },
    {
     "data": {
      "image/png": "[encoded data removed]",
      "text/plain": [
       "<Figure size 432x288 with 1 Axes>"
      ]
     },
     "metadata": {
      "needs_background": "light"
     },
     "output_type": "display_data"
    }
   ],
   "source": [
    "plt.scatter( full_diff_change[12600:12900] , mid_price_diff[12600:12900] )"
   ]
  },
  {
   "cell_type": "code",
   "execution_count": 21,
   "metadata": {},
   "outputs": [
    {
     "data": {
      "text/plain": [
       "LinregressResult(slope=3.798213896164512e-07, intercept=0.00037944744824664774, rvalue=0.06892712784775745, pvalue=0.23393438386256532, stderr=3.184542068015014e-07)"
      ]
     },
     "execution_count": 21,
     "metadata": {},
     "output_type": "execute_result"
    }
   ],
   "source": [
    "lin = scipy.stats.linregress( full_diff_change[14700:15000] , mid_price_diff[14700:15000] ) \n",
    "lin"
   ]
  },
  {
   "cell_type": "code",
   "execution_count": 22,
   "metadata": {},
   "outputs": [
    {
     "data": {
      "text/plain": [
       "<matplotlib.collections.PathCollection at 0x204b4604048>"
      ]
     },
     "execution_count": 22,
     "metadata": {},
     "output_type": "execute_result"
    },
    {
     "data": {
      "image/png": "[encoded data removed]",
      "text/plain": [
       "<Figure size 432x288 with 1 Axes>"
      ]
     },
     "metadata": {
      "needs_background": "light"
     },
     "output_type": "display_data"
    }
   ],
   "source": [
    "plt.scatter( full_diff_change[14700:15000] , mid_price_diff[14700:15000] )"
   ]
  },
  {
   "cell_type": "code",
   "execution_count": 23,
   "metadata": {},
   "outputs": [
    {
     "data": {
      "text/plain": [
       "LinregressResult(slope=3.672859430197794e-06, intercept=0.0005341191213223124, rvalue=0.6877805854520979, pvalue=2.344377347503577e-43, stderr=2.245609353358668e-07)"
      ]
     },
     "execution_count": 23,
     "metadata": {},
     "output_type": "execute_result"
    }
   ],
   "source": [
    "lin = scipy.stats.linregress( full_diff_change[16800:17100] , mid_price_diff[16800:17100] ) \n",
    "lin"
   ]
  },
  {
   "cell_type": "code",
   "execution_count": 24,
   "metadata": {},
   "outputs": [
    {
     "data": {
      "text/plain": [
       "<matplotlib.collections.PathCollection at 0x204b6eda4c8>"
      ]
     },
     "execution_count": 24,
     "metadata": {},
     "output_type": "execute_result"
    },
    {
     "data": {
      "image/png": "[encoded data removed]",
      "text/plain": [
       "<Figure size 432x288 with 1 Axes>"
      ]
     },
     "metadata": {
      "needs_background": "light"
     },
     "output_type": "display_data"
    }
   ],
   "source": [
    "plt.scatter( full_diff_change[16800:17100] , mid_price_diff[16800:17100] )"
   ]
  },
  {
   "cell_type": "code",
   "execution_count": 25,
   "metadata": {},
   "outputs": [
    {
     "data": {
      "text/plain": [
       "LinregressResult(slope=1.6128248168057497e-06, intercept=-0.0006192483683801636, rvalue=0.46200030834496064, pvalue=2.873018162830528e-17, stderr=1.7935006789475312e-07)"
      ]
     },
     "execution_count": 25,
     "metadata": {},
     "output_type": "execute_result"
    }
   ],
   "source": [
    "lin = scipy.stats.linregress( full_diff_change[18900:19200] , mid_price_diff[18900:19200] ) \n",
    "lin"
   ]
  },
  {
   "cell_type": "code",
   "execution_count": 26,
   "metadata": {},
   "outputs": [
    {
     "data": {
      "text/plain": [
       "<matplotlib.collections.PathCollection at 0x204b46ae9c8>"
      ]
     },
     "execution_count": 26,
     "metadata": {},
     "output_type": "execute_result"
    },
    {
     "data": {
      "image/png": "[encoded data removed]",
      "text/plain": [
       "<Figure size 432x288 with 1 Axes>"
      ]
     },
     "metadata": {
      "needs_background": "light"
     },
     "output_type": "display_data"
    }
   ],
   "source": [
    "plt.scatter( full_diff_change[18900:19200] , mid_price_diff[18900:19200] )"
   ]
  },
  {
   "cell_type": "code",
   "execution_count": 27,
   "metadata": {},
   "outputs": [
    {
     "data": {
      "text/plain": [
       "LinregressResult(slope=1.9573418212635275e-06, intercept=8.575668024840788e-05, rvalue=0.3023544458907318, pvalue=9.264665789206922e-08, stderr=3.5745732286188297e-07)"
      ]
     },
     "execution_count": 27,
     "metadata": {},
     "output_type": "execute_result"
    }
   ],
   "source": [
    "lin = scipy.stats.linregress( full_diff_change[21000:21300] , mid_price_diff[21000:21300] ) \n",
    "lin"
   ]
  },
  {
   "cell_type": "code",
   "execution_count": 28,
   "metadata": {},
   "outputs": [
    {
     "data": {
      "text/plain": [
       "<matplotlib.collections.PathCollection at 0x204b471a448>"
      ]
     },
     "execution_count": 28,
     "metadata": {},
     "output_type": "execute_result"
    },
    {
     "data": {
      "image/png": "[encoded data removed]",
      "text/plain": [
       "<Figure size 432x288 with 1 Axes>"
      ]
     },
     "metadata": {
      "needs_background": "light"
     },
     "output_type": "display_data"
    }
   ],
   "source": [
    "plt.scatter( full_diff_change[21000:21300] , mid_price_diff[21000:21300] )"
   ]
  },
  {
   "cell_type": "code",
   "execution_count": 29,
   "metadata": {},
   "outputs": [
    {
     "data": {
      "text/plain": [
       "LinregressResult(slope=1.8063265202161302e-06, intercept=-0.0004363058455434657, rvalue=0.4290233036135966, pvalue=7.29097537510439e-15, stderr=2.203109538015376e-07)"
      ]
     },
     "execution_count": 29,
     "metadata": {},
     "output_type": "execute_result"
    }
   ],
   "source": [
    "lin = scipy.stats.linregress( full_diff_change[23100:23400] , mid_price_diff[23100:23400] ) \n",
    "lin"
   ]
  },
  {
   "cell_type": "code",
   "execution_count": 30,
   "metadata": {},
   "outputs": [
    {
     "data": {
      "text/plain": [
       "<matplotlib.collections.PathCollection at 0x204b4782348>"
      ]
     },
     "execution_count": 30,
     "metadata": {},
     "output_type": "execute_result"
    },
    {
     "data": {
      "image/png": "[encoded data removed]",
      "text/plain": [
       "<Figure size 432x288 with 1 Axes>"
      ]
     },
     "metadata": {
      "needs_background": "light"
     },
     "output_type": "display_data"
    }
   ],
   "source": [
    "plt.scatter( full_diff_change[23100:23400] , mid_price_diff[23100:23400] )"
   ]
  },
  {
   "cell_type": "code",
   "execution_count": 31,
   "metadata": {},
   "outputs": [
    {
     "data": {
      "text/plain": [
       "LinregressResult(slope=5.263701994454419e-06, intercept=-0.0030760163170700204, rvalue=0.04445518658357726, pvalue=1.3361331680211701e-14, stderr=6.830477397818312e-07)"
      ]
     },
     "execution_count": 31,
     "metadata": {},
     "output_type": "execute_result"
    }
   ],
   "source": [
    "lin = scipy.stats.linregress( full_diff_change , mid_price_diff ) \n",
    "lin"
   ]
  },
  {
   "cell_type": "code",
   "execution_count": 32,
   "metadata": {},
   "outputs": [
    {
     "data": {
      "text/plain": [
       "<matplotlib.collections.PathCollection at 0x204b47ede08>"
      ]
     },
     "execution_count": 32,
     "metadata": {},
     "output_type": "execute_result"
    },
    {
     "data": {
      "image/png": "[encoded data removed]",
      "text/plain": [
       "<Figure size 432x288 with 1 Axes>"
      ]
     },
     "metadata": {
      "needs_background": "light"
     },
     "output_type": "display_data"
    }
   ],
   "source": [
    "plt.scatter( full_diff_change , mid_price_diff  )"
   ]
  },
  {
   "cell_type": "code",
   "execution_count": null,
   "metadata": {},
   "outputs": [],
   "source": []
  },
  {
   "cell_type": "code",
   "execution_count": null,
   "metadata": {},
   "outputs": [],
   "source": []
  },
  {
   "cell_type": "code",
   "execution_count": null,
   "metadata": {},
   "outputs": [],
   "source": []
  },
  {
   "cell_type": "code",
   "execution_count": null,
   "metadata": {},
   "outputs": [],
   "source": []
  },
  {
   "cell_type": "code",
   "execution_count": null,
   "metadata": {},
   "outputs": [],
   "source": []
  },
  {
   "cell_type": "code",
   "execution_count": null,
   "metadata": {},
   "outputs": [],
   "source": []
  },
  {
   "cell_type": "code",
   "execution_count": null,
   "metadata": {},
   "outputs": [],
   "source": []
  }
 ],
 "metadata": {
  "kernelspec": {
   "display_name": "Python 3",
   "language": "python",
   "name": "python3"
  },
  "language_info": {
   "codemirror_mode": {
    "name": "ipython",
    "version": 3
   },
   "file_extension": ".py",
   "mimetype": "text/x-python",
   "name": "python",
   "nbconvert_exporter": "python",
   "pygments_lexer": "ipython3",
   "version": "3.8.10"
  }
 },
 "nbformat": 4,
 "nbformat_minor": 4
}

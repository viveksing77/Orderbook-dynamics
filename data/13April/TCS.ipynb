{
 "cells": [
  {
   "cell_type": "code",
   "execution_count": 1,
   "metadata": {},
   "outputs": [
    {
     "name": "stderr",
     "output_type": "stream",
     "text": [
      "c:\\users\\vivek\\appdata\\local\\programs\\python\\python37\\lib\\site-packages\\statsmodels\\tools\\_testing.py:19: FutureWarning: pandas.util.testing is deprecated. Use the functions in the public API at pandas.testing instead.\n",
      "  import pandas.util.testing as tm\n"
     ]
    }
   ],
   "source": [
    "import pandas as pd\n",
    "import seaborn as sns\n",
    "import scipy.stats\n",
    "import numpy as np\n",
    "import matplotlib.pyplot as plt"
   ]
  },
  {
   "cell_type": "code",
   "execution_count": 2,
   "metadata": {},
   "outputs": [],
   "source": [
    "df = pd.read_csv('Downloads/13April/TCS_new.csv')"
   ]
  },
  {
   "cell_type": "code",
   "execution_count": 3,
   "metadata": {},
   "outputs": [],
   "source": [
    "del df['Unnamed: 0']"
   ]
  },
  {
   "cell_type": "code",
   "execution_count": 4,
   "metadata": {},
   "outputs": [],
   "source": [
    "buy = df['buy']\n",
    "sell = df['sell']\n",
    "last_price = df['last_price']\n",
    "last_quantity = df['last_quantity']\n",
    "change = df['change']\n",
    "#average_price = df['average_price']\n",
    "buy_quantity = df['buy_quantity']\n",
    "sell_quantity = df['sell_quantity']\n",
    "#agg_vol = df['agg_vol']\n",
    "last_trade_time_ = df['last_trade_time_']\n",
    "bid_qty_1 = df['bid_qty_1']\n",
    "bid_price_1 = df['bid_price_1']\n",
    "bid_order_1 = df['bid_order_1']\n",
    "bid_qty_2 = df['bid_qty_2']\n",
    "bid_price_2 = df['bid_price_2']\n",
    "bid_order_2 = df['bid_order_2']\n",
    "bid_qty_3 = df['bid_qty_3']\n",
    "bid_price_3 = df['bid_price_3']\n",
    "bid_order_3 = df['bid_order_3']\n",
    "bid_qty_4 = df['bid_qty_4']\n",
    "bid_price_4 = df['bid_price_4']\n",
    "bid_order_4 = df['bid_order_4']\n",
    "bid_qty_5 = df['bid_qty_5']\n",
    "bid_price_5 = df['bid_price_5']\n",
    "bid_order_5 = df['bid_order_5']\n",
    "ask_qty_1 = df['ask_qty_1']\n",
    "ask_price_1 = df['ask_price_1']\n",
    "ask_order_1 = df['ask_order_1']\n",
    "ask_qty_2 = df['ask_qty_2']\n",
    "ask_price_2 = df['ask_price_2']\n",
    "ask_order_2 = df['ask_order_2']\n",
    "ask_qty_3 = df['ask_qty_3']\n",
    "ask_price_3 = df['ask_price_3']\n",
    "ask_order_3 = df['ask_order_3']\n",
    "ask_qty_4 = df['ask_qty_4']\n",
    "ask_price_4 = df['ask_price_4']\n",
    "ask_order_4 = df['ask_order_4']\n",
    "ask_qty_5 = df['ask_qty_5']\n",
    "ask_price_5 = df['ask_price_5']\n",
    "ask_order_5 = df['ask_order_5']\n",
    "total_bid_qty = df['total_bid_qty']\n",
    "\n",
    "\n",
    "\n",
    "total_ask_qty = df['total_ask_qty']\n",
    "OI = df['OI']\n",
    "CR = df['CR']\n",
    "ratio = df['ratio']\n",
    "reverse = df['reverse']\n",
    "change_ratio = df['change_ratio']\n",
    "change_reverse = df['change_reverse']\n",
    "RC_CR = df['RC_CR']\n",
    "OI_new = df['OI_new']\n",
    "diff = df['diff']\n",
    "\n",
    "full_diff = df['full_diff']\n",
    "mid_price = df['mid_price']"
   ]
  },
  {
   "cell_type": "code",
   "execution_count": 5,
   "metadata": {},
   "outputs": [],
   "source": [
    "mid_price_diff = []\n",
    "for i in range(len(mid_price)-1):\n",
    "    x = mid_price[i+1] - mid_price[i]\n",
    "    mid_price_diff.append(x)"
   ]
  },
  {
   "cell_type": "code",
   "execution_count": 6,
   "metadata": {},
   "outputs": [],
   "source": [
    "full_diff_change = []\n",
    "for i in range(len(full_diff)-1):\n",
    "    x = full_diff[i+1] - full_diff[i]\n",
    "    full_diff_change.append(x)"
   ]
  },
  {
   "cell_type": "code",
   "execution_count": 7,
   "metadata": {},
   "outputs": [
    {
     "data": {
      "text/plain": [
       "LinregressResult(slope=0.0005623964872778096, intercept=-0.03669840144172502, rvalue=0.6322016861899645, pvalue=6.928094052222382e-35, stderr=3.992736000011537e-05)"
      ]
     },
     "execution_count": 7,
     "metadata": {},
     "output_type": "execute_result"
    }
   ],
   "source": [
    "lin = scipy.stats.linregress( full_diff_change[:300] , mid_price_diff[:300] ) \n",
    "lin"
   ]
  },
  {
   "cell_type": "code",
   "execution_count": 8,
   "metadata": {},
   "outputs": [
    {
     "data": {
      "text/plain": [
       "<matplotlib.collections.PathCollection at 0x1948c927e48>"
      ]
     },
     "execution_count": 8,
     "metadata": {},
     "output_type": "execute_result"
    },
    {
     "data": {
      "image/png": "[encoded data removed]",
      "text/plain": [
       "<Figure size 432x288 with 1 Axes>"
      ]
     },
     "metadata": {
      "needs_background": "light"
     },
     "output_type": "display_data"
    }
   ],
   "source": [
    "plt.scatter(full_diff_change[:300] , mid_price_diff[:300])\n"
   ]
  },
  {
   "cell_type": "code",
   "execution_count": 9,
   "metadata": {},
   "outputs": [
    {
     "data": {
      "text/plain": [
       "LinregressResult(slope=0.0003046589676874477, intercept=0.021330308945936467, rvalue=0.6792213964381347, pvalue=6.258516501338805e-42, stderr=1.907002013928889e-05)"
      ]
     },
     "execution_count": 9,
     "metadata": {},
     "output_type": "execute_result"
    }
   ],
   "source": [
    "lin = scipy.stats.linregress( full_diff_change[2100:2400] , mid_price_diff[2100:2400] ) \n",
    "lin"
   ]
  },
  {
   "cell_type": "code",
   "execution_count": 10,
   "metadata": {},
   "outputs": [
    {
     "data": {
      "text/plain": [
       "<matplotlib.collections.PathCollection at 0x1948c927988>"
      ]
     },
     "execution_count": 10,
     "metadata": {},
     "output_type": "execute_result"
    },
    {
     "data": {
      "image/png": "[encoded data removed]",
      "text/plain": [
       "<Figure size 432x288 with 1 Axes>"
      ]
     },
     "metadata": {
      "needs_background": "light"
     },
     "output_type": "display_data"
    }
   ],
   "source": [
    "plt.scatter(full_diff_change[2100:2400] , mid_price_diff[2100:2400] )"
   ]
  },
  {
   "cell_type": "code",
   "execution_count": 11,
   "metadata": {},
   "outputs": [
    {
     "data": {
      "text/plain": [
       "LinregressResult(slope=0.00013499451959971256, intercept=0.0014966884921221518, rvalue=0.4629733227555669, pvalue=2.4174928000564536e-17, stderr=1.4971598508410226e-05)"
      ]
     },
     "execution_count": 11,
     "metadata": {},
     "output_type": "execute_result"
    }
   ],
   "source": [
    "lin = scipy.stats.linregress( full_diff_change[4200:4500] , mid_price_diff[4200:4500] ) \n",
    "lin"
   ]
  },
  {
   "cell_type": "code",
   "execution_count": 12,
   "metadata": {},
   "outputs": [
    {
     "data": {
      "text/plain": [
       "<matplotlib.collections.PathCollection at 0x1948ca5b608>"
      ]
     },
     "execution_count": 12,
     "metadata": {},
     "output_type": "execute_result"
    },
    {
     "data": {
      "image/png": "[encoded data removed]",
      "text/plain": [
       "<Figure size 432x288 with 1 Axes>"
      ]
     },
     "metadata": {
      "needs_background": "light"
     },
     "output_type": "display_data"
    }
   ],
   "source": [
    "plt.scatter(full_diff_change[4200:4500] , mid_price_diff[4200:4500])"
   ]
  },
  {
   "cell_type": "code",
   "execution_count": 13,
   "metadata": {},
   "outputs": [
    {
     "data": {
      "text/plain": [
       "LinregressResult(slope=2.9664500067384033e-05, intercept=0.014764353215279032, rvalue=0.2194923836941172, pvalue=0.00012674992119710853, stderr=7.638139139649611e-06)"
      ]
     },
     "execution_count": 13,
     "metadata": {},
     "output_type": "execute_result"
    }
   ],
   "source": [
    "lin = scipy.stats.linregress( full_diff_change[6300:6600] , mid_price_diff[6300:6600] ) \n",
    "lin"
   ]
  },
  {
   "cell_type": "code",
   "execution_count": 14,
   "metadata": {},
   "outputs": [
    {
     "data": {
      "text/plain": [
       "<matplotlib.collections.PathCollection at 0x1948cad5148>"
      ]
     },
     "execution_count": 14,
     "metadata": {},
     "output_type": "execute_result"
    },
    {
     "data": {
      "image/png": "[encoded data removed]",
      "text/plain": [
       "<Figure size 432x288 with 1 Axes>"
      ]
     },
     "metadata": {
      "needs_background": "light"
     },
     "output_type": "display_data"
    }
   ],
   "source": [
    "plt.scatter( full_diff_change[6300:6600] , mid_price_diff[6300:6600] )"
   ]
  },
  {
   "cell_type": "code",
   "execution_count": 15,
   "metadata": {},
   "outputs": [
    {
     "data": {
      "text/plain": [
       "LinregressResult(slope=1.283354205461597e-05, intercept=0.005323463075111216, rvalue=0.1180579373013653, pvalue=0.041009066168290344, stderr=6.253100340050135e-06)"
      ]
     },
     "execution_count": 15,
     "metadata": {},
     "output_type": "execute_result"
    }
   ],
   "source": [
    "lin = scipy.stats.linregress( full_diff_change[8400:8700] , mid_price_diff[8400:8700] ) \n",
    "lin"
   ]
  },
  {
   "cell_type": "code",
   "execution_count": 16,
   "metadata": {},
   "outputs": [
    {
     "data": {
      "text/plain": [
       "<matplotlib.collections.PathCollection at 0x1948cb35a88>"
      ]
     },
     "execution_count": 16,
     "metadata": {},
     "output_type": "execute_result"
    },
    {
     "data": {
      "image/png": "[encoded data removed]",
      "text/plain": [
       "<Figure size 432x288 with 1 Axes>"
      ]
     },
     "metadata": {
      "needs_background": "light"
     },
     "output_type": "display_data"
    }
   ],
   "source": [
    "plt.scatter( full_diff_change[8400:8700] , mid_price_diff[8400:8700] )"
   ]
  },
  {
   "cell_type": "code",
   "execution_count": 17,
   "metadata": {},
   "outputs": [
    {
     "data": {
      "text/plain": [
       "LinregressResult(slope=0.0001553638256127217, intercept=-0.0031329139982929225, rvalue=0.475190084978398, pvalue=2.638898409246771e-18, stderr=1.6664773383292078e-05)"
      ]
     },
     "execution_count": 17,
     "metadata": {},
     "output_type": "execute_result"
    }
   ],
   "source": [
    "lin = scipy.stats.linregress( full_diff_change[10500:10800] , mid_price_diff[10500:10800] ) \n",
    "lin"
   ]
  },
  {
   "cell_type": "code",
   "execution_count": 18,
   "metadata": {},
   "outputs": [
    {
     "data": {
      "text/plain": [
       "<matplotlib.collections.PathCollection at 0x1948cb35908>"
      ]
     },
     "execution_count": 18,
     "metadata": {},
     "output_type": "execute_result"
    },
    {
     "data": {
      "image/png": "[encoded data removed]",
      "text/plain": [
       "<Figure size 432x288 with 1 Axes>"
      ]
     },
     "metadata": {
      "needs_background": "light"
     },
     "output_type": "display_data"
    }
   ],
   "source": [
    "plt.scatter( full_diff_change[10500:10800] , mid_price_diff[10500:10800] )"
   ]
  },
  {
   "cell_type": "code",
   "execution_count": 19,
   "metadata": {},
   "outputs": [
    {
     "data": {
      "text/plain": [
       "LinregressResult(slope=7.33527700836173e-05, intercept=0.0013421585983346331, rvalue=0.30437047865660294, pvalue=7.532698514895272e-08, stderr=1.3298276007259278e-05)"
      ]
     },
     "execution_count": 19,
     "metadata": {},
     "output_type": "execute_result"
    }
   ],
   "source": [
    "lin = scipy.stats.linregress( full_diff_change[12600:12900] , mid_price_diff[12600:12900] ) \n",
    "lin"
   ]
  },
  {
   "cell_type": "code",
   "execution_count": 20,
   "metadata": {},
   "outputs": [
    {
     "data": {
      "text/plain": [
       "<matplotlib.collections.PathCollection at 0x1948cc06e88>"
      ]
     },
     "execution_count": 20,
     "metadata": {},
     "output_type": "execute_result"
    },
    {
     "data": {
      "image/png": "[encoded data removed]",
      "text/plain": [
       "<Figure size 432x288 with 1 Axes>"
      ]
     },
     "metadata": {
      "needs_background": "light"
     },
     "output_type": "display_data"
    }
   ],
   "source": [
    "plt.scatter( full_diff_change[12600:12900] , mid_price_diff[12600:12900] )"
   ]
  },
  {
   "cell_type": "code",
   "execution_count": 21,
   "metadata": {},
   "outputs": [
    {
     "data": {
      "text/plain": [
       "LinregressResult(slope=7.595939946772444e-05, intercept=0.0001566121185569455, rvalue=0.33091636747539266, pvalue=4.253289529696467e-09, stderr=1.254789073288188e-05)"
      ]
     },
     "execution_count": 21,
     "metadata": {},
     "output_type": "execute_result"
    }
   ],
   "source": [
    "lin = scipy.stats.linregress( full_diff_change[14700:15000] , mid_price_diff[14700:15000] ) \n",
    "lin"
   ]
  },
  {
   "cell_type": "code",
   "execution_count": 22,
   "metadata": {},
   "outputs": [
    {
     "data": {
      "text/plain": [
       "<matplotlib.collections.PathCollection at 0x1948cc860c8>"
      ]
     },
     "execution_count": 22,
     "metadata": {},
     "output_type": "execute_result"
    },
    {
     "data": {
      "image/png": "[encoded data removed]",
      "text/plain": [
       "<Figure size 432x288 with 1 Axes>"
      ]
     },
     "metadata": {
      "needs_background": "light"
     },
     "output_type": "display_data"
    }
   ],
   "source": [
    "plt.scatter( full_diff_change[14700:15000] , mid_price_diff[14700:15000] )"
   ]
  },
  {
   "cell_type": "code",
   "execution_count": 23,
   "metadata": {},
   "outputs": [
    {
     "data": {
      "text/plain": [
       "LinregressResult(slope=0.00016478823960600398, intercept=-0.006803179321573052, rvalue=0.43098239206941286, pvalue=5.334779354231873e-15, stderr=1.998658305940927e-05)"
      ]
     },
     "execution_count": 23,
     "metadata": {},
     "output_type": "execute_result"
    }
   ],
   "source": [
    "lin = scipy.stats.linregress( full_diff_change[16800:17100] , mid_price_diff[16800:17100] ) \n",
    "lin"
   ]
  },
  {
   "cell_type": "code",
   "execution_count": 24,
   "metadata": {},
   "outputs": [
    {
     "data": {
      "text/plain": [
       "<matplotlib.collections.PathCollection at 0x1948c105d08>"
      ]
     },
     "execution_count": 24,
     "metadata": {},
     "output_type": "execute_result"
    },
    {
     "data": {
      "image/png": "[encoded data removed]",
      "text/plain": [
       "<Figure size 432x288 with 1 Axes>"
      ]
     },
     "metadata": {
      "needs_background": "light"
     },
     "output_type": "display_data"
    }
   ],
   "source": [
    "plt.scatter( full_diff_change[16800:17100] , mid_price_diff[16800:17100] )"
   ]
  },
  {
   "cell_type": "code",
   "execution_count": 25,
   "metadata": {},
   "outputs": [
    {
     "data": {
      "text/plain": [
       "LinregressResult(slope=1.5796147148524206e-05, intercept=-0.002207043616647777, rvalue=0.15266817074960234, pvalue=0.008077905904616082, stderr=5.9234325496474476e-06)"
      ]
     },
     "execution_count": 25,
     "metadata": {},
     "output_type": "execute_result"
    }
   ],
   "source": [
    "lin = scipy.stats.linregress( full_diff_change[18900:19200] , mid_price_diff[18900:19200] ) \n",
    "lin"
   ]
  },
  {
   "cell_type": "code",
   "execution_count": 26,
   "metadata": {},
   "outputs": [
    {
     "data": {
      "text/plain": [
       "<matplotlib.collections.PathCollection at 0x1948cd30748>"
      ]
     },
     "execution_count": 26,
     "metadata": {},
     "output_type": "execute_result"
    },
    {
     "data": {
      "image/png": "[encoded data removed]",
      "text/plain": [
       "<Figure size 432x288 with 1 Axes>"
      ]
     },
     "metadata": {
      "needs_background": "light"
     },
     "output_type": "display_data"
    }
   ],
   "source": [
    "plt.scatter( full_diff_change[18900:19200] , mid_price_diff[18900:19200] )"
   ]
  },
  {
   "cell_type": "code",
   "execution_count": 27,
   "metadata": {},
   "outputs": [
    {
     "data": {
      "text/plain": [
       "LinregressResult(slope=5.443985230662899e-05, intercept=0.0004457419152567344, rvalue=0.22833710637028948, pvalue=6.572405626822379e-05, stderr=1.3446365357190351e-05)"
      ]
     },
     "execution_count": 27,
     "metadata": {},
     "output_type": "execute_result"
    }
   ],
   "source": [
    "lin = scipy.stats.linregress( full_diff_change[21000:21300] , mid_price_diff[21000:21300] ) \n",
    "lin"
   ]
  },
  {
   "cell_type": "code",
   "execution_count": 28,
   "metadata": {},
   "outputs": [
    {
     "data": {
      "text/plain": [
       "<matplotlib.collections.PathCollection at 0x1948cda0ec8>"
      ]
     },
     "execution_count": 28,
     "metadata": {},
     "output_type": "execute_result"
    },
    {
     "data": {
      "image/png": "[encoded data removed]",
      "text/plain": [
       "<Figure size 432x288 with 1 Axes>"
      ]
     },
     "metadata": {
      "needs_background": "light"
     },
     "output_type": "display_data"
    }
   ],
   "source": [
    "plt.scatter( full_diff_change[21000:21300] , mid_price_diff[21000:21300] )"
   ]
  },
  {
   "cell_type": "code",
   "execution_count": 29,
   "metadata": {},
   "outputs": [
    {
     "data": {
      "text/plain": [
       "LinregressResult(slope=0.00018621574956887593, intercept=-0.0063583761979743875, rvalue=0.41197014445946983, pvalue=1.0169380766825496e-13, stderr=2.3859150627354343e-05)"
      ]
     },
     "execution_count": 29,
     "metadata": {},
     "output_type": "execute_result"
    }
   ],
   "source": [
    "lin = scipy.stats.linregress( full_diff_change[23100:23400] , mid_price_diff[23100:23400] ) \n",
    "lin"
   ]
  },
  {
   "cell_type": "code",
   "execution_count": 30,
   "metadata": {},
   "outputs": [
    {
     "data": {
      "text/plain": [
       "<matplotlib.collections.PathCollection at 0x1948ce08708>"
      ]
     },
     "execution_count": 30,
     "metadata": {},
     "output_type": "execute_result"
    },
    {
     "data": {
      "image/png": "[encoded data removed]",
      "text/plain": [
       "<Figure size 432x288 with 1 Axes>"
      ]
     },
     "metadata": {
      "needs_background": "light"
     },
     "output_type": "display_data"
    }
   ],
   "source": [
    "plt.scatter( full_diff_change[23100:23400] , mid_price_diff[23100:23400] )"
   ]
  },
  {
   "cell_type": "code",
   "execution_count": 31,
   "metadata": {},
   "outputs": [
    {
     "data": {
      "text/plain": [
       "LinregressResult(slope=-0.0036341124020570215, intercept=-0.03389235691194447, rvalue=-0.4663899341546328, pvalue=0.0, stderr=4.080703526687765e-05)"
      ]
     },
     "execution_count": 31,
     "metadata": {},
     "output_type": "execute_result"
    }
   ],
   "source": [
    "lin = scipy.stats.linregress( full_diff_change , mid_price_diff ) \n",
    "lin"
   ]
  },
  {
   "cell_type": "code",
   "execution_count": 32,
   "metadata": {},
   "outputs": [
    {
     "data": {
      "text/plain": [
       "<matplotlib.collections.PathCollection at 0x1948ce6fd48>"
      ]
     },
     "execution_count": 32,
     "metadata": {},
     "output_type": "execute_result"
    },
    {
     "data": {
      "image/png": "[encoded data removed]",
      "text/plain": [
       "<Figure size 432x288 with 1 Axes>"
      ]
     },
     "metadata": {
      "needs_background": "light"
     },
     "output_type": "display_data"
    }
   ],
   "source": [
    "plt.scatter( full_diff_change , mid_price_diff  )"
   ]
  },
  {
   "cell_type": "code",
   "execution_count": null,
   "metadata": {},
   "outputs": [],
   "source": []
  },
  {
   "cell_type": "code",
   "execution_count": null,
   "metadata": {},
   "outputs": [],
   "source": []
  },
  {
   "cell_type": "code",
   "execution_count": null,
   "metadata": {},
   "outputs": [],
   "source": []
  },
  {
   "cell_type": "code",
   "execution_count": null,
   "metadata": {},
   "outputs": [],
   "source": []
  },
  {
   "cell_type": "code",
   "execution_count": null,
   "metadata": {},
   "outputs": [],
   "source": []
  },
  {
   "cell_type": "code",
   "execution_count": null,
   "metadata": {},
   "outputs": [],
   "source": []
  }
 ],
 "metadata": {
  "kernelspec": {
   "display_name": "Python 3",
   "language": "python",
   "name": "python3"
  },
  "language_info": {
   "codemirror_mode": {
    "name": "ipython",
    "version": 3
   },
   "file_extension": ".py",
   "mimetype": "text/x-python",
   "name": "python",
   "nbconvert_exporter": "python",
   "pygments_lexer": "ipython3",
   "version": "3.8.10"
  }
 },
 "nbformat": 4,
 "nbformat_minor": 4
}

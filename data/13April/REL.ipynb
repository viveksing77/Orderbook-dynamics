{
 "cells": [
  {
   "cell_type": "code",
   "execution_count": 1,
   "metadata": {},
   "outputs": [
    {
     "name": "stderr",
     "output_type": "stream",
     "text": [
      "c:\\users\\vivek\\appdata\\local\\programs\\python\\python37\\lib\\site-packages\\statsmodels\\tools\\_testing.py:19: FutureWarning: pandas.util.testing is deprecated. Use the functions in the public API at pandas.testing instead.\n",
      "  import pandas.util.testing as tm\n"
     ]
    }
   ],
   "source": [
    "import pandas as pd\n",
    "import seaborn as sns\n",
    "import scipy.stats\n",
    "import numpy as np\n",
    "import matplotlib.pyplot as plt"
   ]
  },
  {
   "cell_type": "code",
   "execution_count": 2,
   "metadata": {},
   "outputs": [],
   "source": [
    "df = pd.read_csv('Downloads/13April/REL_new.csv')"
   ]
  },
  {
   "cell_type": "code",
   "execution_count": 3,
   "metadata": {},
   "outputs": [],
   "source": [
    "del df['Unnamed: 0']"
   ]
  },
  {
   "cell_type": "code",
   "execution_count": 4,
   "metadata": {},
   "outputs": [],
   "source": [
    "buy = df['buy']\n",
    "sell = df['sell']\n",
    "last_price = df['last_price']\n",
    "last_quantity = df['last_quantity']\n",
    "change = df['change']\n",
    "#average_price = df['average_price']\n",
    "buy_quantity = df['buy_quantity']\n",
    "sell_quantity = df['sell_quantity']\n",
    "#agg_vol = df['agg_vol']\n",
    "last_trade_time_ = df['last_trade_time_']\n",
    "bid_qty_1 = df['bid_qty_1']\n",
    "bid_price_1 = df['bid_price_1']\n",
    "bid_order_1 = df['bid_order_1']\n",
    "bid_qty_2 = df['bid_qty_2']\n",
    "bid_price_2 = df['bid_price_2']\n",
    "bid_order_2 = df['bid_order_2']\n",
    "bid_qty_3 = df['bid_qty_3']\n",
    "bid_price_3 = df['bid_price_3']\n",
    "bid_order_3 = df['bid_order_3']\n",
    "bid_qty_4 = df['bid_qty_4']\n",
    "bid_price_4 = df['bid_price_4']\n",
    "bid_order_4 = df['bid_order_4']\n",
    "bid_qty_5 = df['bid_qty_5']\n",
    "bid_price_5 = df['bid_price_5']\n",
    "bid_order_5 = df['bid_order_5']\n",
    "ask_qty_1 = df['ask_qty_1']\n",
    "ask_price_1 = df['ask_price_1']\n",
    "ask_order_1 = df['ask_order_1']\n",
    "ask_qty_2 = df['ask_qty_2']\n",
    "ask_price_2 = df['ask_price_2']\n",
    "ask_order_2 = df['ask_order_2']\n",
    "ask_qty_3 = df['ask_qty_3']\n",
    "ask_price_3 = df['ask_price_3']\n",
    "ask_order_3 = df['ask_order_3']\n",
    "ask_qty_4 = df['ask_qty_4']\n",
    "ask_price_4 = df['ask_price_4']\n",
    "ask_order_4 = df['ask_order_4']\n",
    "ask_qty_5 = df['ask_qty_5']\n",
    "ask_price_5 = df['ask_price_5']\n",
    "ask_order_5 = df['ask_order_5']\n",
    "total_bid_qty = df['total_bid_qty']\n",
    "\n",
    "\n",
    "\n",
    "total_ask_qty = df['total_ask_qty']\n",
    "OI = df['OI']\n",
    "CR = df['CR']\n",
    "ratio = df['ratio']\n",
    "reverse = df['reverse']\n",
    "change_ratio = df['change_ratio']\n",
    "change_reverse = df['change_reverse']\n",
    "RC_CR = df['RC_CR']\n",
    "OI_new = df['OI_new']\n",
    "diff = df['diff']\n",
    "\n",
    "full_diff = df['full_diff']\n",
    "mid_price = df['mid_price']"
   ]
  },
  {
   "cell_type": "code",
   "execution_count": 5,
   "metadata": {},
   "outputs": [],
   "source": [
    "mid_price_diff = []\n",
    "for i in range(len(mid_price)-1):\n",
    "    x = mid_price[i+1] - mid_price[i]\n",
    "    mid_price_diff.append(x)"
   ]
  },
  {
   "cell_type": "code",
   "execution_count": 6,
   "metadata": {},
   "outputs": [],
   "source": [
    "full_diff_change = []\n",
    "for i in range(len(full_diff)-1):\n",
    "    x = full_diff[i+1] - full_diff[i]\n",
    "    full_diff_change.append(x)"
   ]
  },
  {
   "cell_type": "code",
   "execution_count": 7,
   "metadata": {},
   "outputs": [
    {
     "data": {
      "text/plain": [
       "LinregressResult(slope=6.112003364125836e-05, intercept=0.04777222165933501, rvalue=0.436647628726552, pvalue=2.1370818105064373e-15, stderr=7.294735343368794e-06)"
      ]
     },
     "execution_count": 7,
     "metadata": {},
     "output_type": "execute_result"
    }
   ],
   "source": [
    "lin = scipy.stats.linregress( full_diff_change[:300] , mid_price_diff[:300] ) \n",
    "lin"
   ]
  },
  {
   "cell_type": "code",
   "execution_count": 8,
   "metadata": {},
   "outputs": [
    {
     "data": {
      "text/plain": [
       "<matplotlib.collections.PathCollection at 0x21831ad6d08>"
      ]
     },
     "execution_count": 8,
     "metadata": {},
     "output_type": "execute_result"
    },
    {
     "data": {
      "image/png": "[encoded data removed]",
      "text/plain": [
       "<Figure size 432x288 with 1 Axes>"
      ]
     },
     "metadata": {
      "needs_background": "light"
     },
     "output_type": "display_data"
    }
   ],
   "source": [
    "plt.scatter(full_diff_change[:300] , mid_price_diff[:300])\n"
   ]
  },
  {
   "cell_type": "code",
   "execution_count": 9,
   "metadata": {},
   "outputs": [
    {
     "data": {
      "text/plain": [
       "LinregressResult(slope=7.895124043679589e-05, intercept=-0.0056749218554120965, rvalue=0.5953253479954052, pvalue=3.71920127915372e-30, stderr=6.1726845754731245e-06)"
      ]
     },
     "execution_count": 9,
     "metadata": {},
     "output_type": "execute_result"
    }
   ],
   "source": [
    "lin = scipy.stats.linregress( full_diff_change[2100:2400] , mid_price_diff[2100:2400] ) \n",
    "lin"
   ]
  },
  {
   "cell_type": "code",
   "execution_count": 10,
   "metadata": {},
   "outputs": [
    {
     "data": {
      "text/plain": [
       "<matplotlib.collections.PathCollection at 0x21831b41088>"
      ]
     },
     "execution_count": 10,
     "metadata": {},
     "output_type": "execute_result"
    },
    {
     "data": {
      "image/png": "[encoded data removed]",
      "text/plain": [
       "<Figure size 432x288 with 1 Axes>"
      ]
     },
     "metadata": {
      "needs_background": "light"
     },
     "output_type": "display_data"
    }
   ],
   "source": [
    "plt.scatter(full_diff_change[2100:2400] , mid_price_diff[2100:2400] )"
   ]
  },
  {
   "cell_type": "code",
   "execution_count": 11,
   "metadata": {},
   "outputs": [
    {
     "data": {
      "text/plain": [
       "LinregressResult(slope=2.5020137643078976e-05, intercept=-0.00860085762801684, rvalue=0.2728317394782257, pvalue=1.6092023348662729e-06, stderr=5.110808707287162e-06)"
      ]
     },
     "execution_count": 11,
     "metadata": {},
     "output_type": "execute_result"
    }
   ],
   "source": [
    "lin = scipy.stats.linregress( full_diff_change[4200:4500] , mid_price_diff[4200:4500] ) \n",
    "lin"
   ]
  },
  {
   "cell_type": "code",
   "execution_count": 12,
   "metadata": {},
   "outputs": [
    {
     "data": {
      "text/plain": [
       "<matplotlib.collections.PathCollection at 0x21831c0f488>"
      ]
     },
     "execution_count": 12,
     "metadata": {},
     "output_type": "execute_result"
    },
    {
     "data": {
      "image/png": "[encoded data removed]",
      "text/plain": [
       "<Figure size 432x288 with 1 Axes>"
      ]
     },
     "metadata": {
      "needs_background": "light"
     },
     "output_type": "display_data"
    }
   ],
   "source": [
    "plt.scatter(full_diff_change[4200:4500] , mid_price_diff[4200:4500])"
   ]
  },
  {
   "cell_type": "code",
   "execution_count": 13,
   "metadata": {},
   "outputs": [
    {
     "data": {
      "text/plain": [
       "LinregressResult(slope=2.7739773524545323e-05, intercept=-0.001339851752140018, rvalue=0.3177176639104727, pvalue=1.838889720596784e-08, stderr=4.795641017421369e-06)"
      ]
     },
     "execution_count": 13,
     "metadata": {},
     "output_type": "execute_result"
    }
   ],
   "source": [
    "lin = scipy.stats.linregress( full_diff_change[6300:6600] , mid_price_diff[6300:6600] ) \n",
    "lin"
   ]
  },
  {
   "cell_type": "code",
   "execution_count": 14,
   "metadata": {},
   "outputs": [
    {
     "data": {
      "text/plain": [
       "<matplotlib.collections.PathCollection at 0x21831c7bd08>"
      ]
     },
     "execution_count": 14,
     "metadata": {},
     "output_type": "execute_result"
    },
    {
     "data": {
      "image/png": "[encoded data removed]",
      "text/plain": [
       "<Figure size 432x288 with 1 Axes>"
      ]
     },
     "metadata": {
      "needs_background": "light"
     },
     "output_type": "display_data"
    }
   ],
   "source": [
    "plt.scatter( full_diff_change[6300:6600] , mid_price_diff[6300:6600] )"
   ]
  },
  {
   "cell_type": "code",
   "execution_count": 15,
   "metadata": {},
   "outputs": [
    {
     "data": {
      "text/plain": [
       "LinregressResult(slope=-3.985047519048769e-06, intercept=-0.004702425826404568, rvalue=-0.05102828211516131, pvalue=0.3784694102067354, stderr=4.5180211589610864e-06)"
      ]
     },
     "execution_count": 15,
     "metadata": {},
     "output_type": "execute_result"
    }
   ],
   "source": [
    "lin = scipy.stats.linregress( full_diff_change[8400:8700] , mid_price_diff[8400:8700] ) \n",
    "lin"
   ]
  },
  {
   "cell_type": "code",
   "execution_count": 16,
   "metadata": {},
   "outputs": [
    {
     "data": {
      "text/plain": [
       "<matplotlib.collections.PathCollection at 0x21831cf13c8>"
      ]
     },
     "execution_count": 16,
     "metadata": {},
     "output_type": "execute_result"
    },
    {
     "data": {
      "image/png": "[encoded data removed]",
      "text/plain": [
       "<Figure size 432x288 with 1 Axes>"
      ]
     },
     "metadata": {
      "needs_background": "light"
     },
     "output_type": "display_data"
    }
   ],
   "source": [
    "plt.scatter( full_diff_change[8400:8700] , mid_price_diff[8400:8700] )"
   ]
  },
  {
   "cell_type": "code",
   "execution_count": 17,
   "metadata": {},
   "outputs": [
    {
     "data": {
      "text/plain": [
       "LinregressResult(slope=1.3188005602189522e-05, intercept=0.0024022911143620467, rvalue=0.12868024461486843, pvalue=0.025828774592211667, stderr=5.887533013188638e-06)"
      ]
     },
     "execution_count": 17,
     "metadata": {},
     "output_type": "execute_result"
    }
   ],
   "source": [
    "lin = scipy.stats.linregress( full_diff_change[10500:10800] , mid_price_diff[10500:10800] ) \n",
    "lin"
   ]
  },
  {
   "cell_type": "code",
   "execution_count": 18,
   "metadata": {},
   "outputs": [
    {
     "data": {
      "text/plain": [
       "<matplotlib.collections.PathCollection at 0x21831d67748>"
      ]
     },
     "execution_count": 18,
     "metadata": {},
     "output_type": "execute_result"
    },
    {
     "data": {
      "image/png": "[encoded data removed]",
      "text/plain": [
       "<Figure size 432x288 with 1 Axes>"
      ]
     },
     "metadata": {
      "needs_background": "light"
     },
     "output_type": "display_data"
    }
   ],
   "source": [
    "plt.scatter( full_diff_change[10500:10800] , mid_price_diff[10500:10800] )"
   ]
  },
  {
   "cell_type": "code",
   "execution_count": 19,
   "metadata": {},
   "outputs": [
    {
     "data": {
      "text/plain": [
       "LinregressResult(slope=3.196410763237182e-05, intercept=0.009132778867060942, rvalue=0.32995944518394443, pvalue=4.740821164685589e-09, stderr=5.297410542590731e-06)"
      ]
     },
     "execution_count": 19,
     "metadata": {},
     "output_type": "execute_result"
    }
   ],
   "source": [
    "lin = scipy.stats.linregress( full_diff_change[12600:12900] , mid_price_diff[12600:12900] ) \n",
    "lin"
   ]
  },
  {
   "cell_type": "code",
   "execution_count": 20,
   "metadata": {},
   "outputs": [
    {
     "data": {
      "text/plain": [
       "<matplotlib.collections.PathCollection at 0x21831dda208>"
      ]
     },
     "execution_count": 20,
     "metadata": {},
     "output_type": "execute_result"
    },
    {
     "data": {
      "image/png": "[encoded data removed]",
      "text/plain": [
       "<Figure size 432x288 with 1 Axes>"
      ]
     },
     "metadata": {
      "needs_background": "light"
     },
     "output_type": "display_data"
    }
   ],
   "source": [
    "plt.scatter( full_diff_change[12600:12900] , mid_price_diff[12600:12900] )"
   ]
  },
  {
   "cell_type": "code",
   "execution_count": 21,
   "metadata": {},
   "outputs": [
    {
     "data": {
      "text/plain": [
       "LinregressResult(slope=9.645642174566102e-06, intercept=-0.0012601550613700197, rvalue=0.13974512762269173, pvalue=0.01542476783769443, stderr=3.95916665257311e-06)"
      ]
     },
     "execution_count": 21,
     "metadata": {},
     "output_type": "execute_result"
    }
   ],
   "source": [
    "lin = scipy.stats.linregress( full_diff_change[14700:15000] , mid_price_diff[14700:15000] ) \n",
    "lin"
   ]
  },
  {
   "cell_type": "code",
   "execution_count": 22,
   "metadata": {},
   "outputs": [
    {
     "data": {
      "text/plain": [
       "<matplotlib.collections.PathCollection at 0x21831e48dc8>"
      ]
     },
     "execution_count": 22,
     "metadata": {},
     "output_type": "execute_result"
    },
    {
     "data": {
      "image/png": "[encoded data removed]",
      "text/plain": [
       "<Figure size 432x288 with 1 Axes>"
      ]
     },
     "metadata": {
      "needs_background": "light"
     },
     "output_type": "display_data"
    }
   ],
   "source": [
    "plt.scatter( full_diff_change[14700:15000] , mid_price_diff[14700:15000] )"
   ]
  },
  {
   "cell_type": "code",
   "execution_count": 23,
   "metadata": {},
   "outputs": [
    {
     "data": {
      "text/plain": [
       "LinregressResult(slope=7.153606550041115e-06, intercept=-0.008890084392086911, rvalue=0.10326795947472422, pvalue=0.07410505422987705, stderr=3.991380848431323e-06)"
      ]
     },
     "execution_count": 23,
     "metadata": {},
     "output_type": "execute_result"
    }
   ],
   "source": [
    "lin = scipy.stats.linregress( full_diff_change[16800:17100] , mid_price_diff[16800:17100] ) \n",
    "lin"
   ]
  },
  {
   "cell_type": "code",
   "execution_count": 33,
   "metadata": {},
   "outputs": [
    {
     "data": {
      "text/plain": [
       "<matplotlib.collections.PathCollection at 0x218320b8a88>"
      ]
     },
     "execution_count": 33,
     "metadata": {},
     "output_type": "execute_result"
    },
    {
     "data": {
      "image/png": "[encoded data removed]",
      "text/plain": [
       "<Figure size 432x288 with 1 Axes>"
      ]
     },
     "metadata": {
      "needs_background": "light"
     },
     "output_type": "display_data"
    }
   ],
   "source": [
    "plt.scatter( full_diff_change[16800:17100] , mid_price_diff[16800:17100] )"
   ]
  },
  {
   "cell_type": "code",
   "execution_count": 34,
   "metadata": {},
   "outputs": [
    {
     "data": {
      "text/plain": [
       "LinregressResult(slope=3.191096454438936e-06, intercept=-0.017720065248799204, rvalue=0.04268903213329354, pvalue=0.46133834422805375, stderr=4.326327687627313e-06)"
      ]
     },
     "execution_count": 34,
     "metadata": {},
     "output_type": "execute_result"
    }
   ],
   "source": [
    "lin = scipy.stats.linregress( full_diff_change[18900:19200] , mid_price_diff[18900:19200] ) \n",
    "lin"
   ]
  },
  {
   "cell_type": "code",
   "execution_count": 35,
   "metadata": {},
   "outputs": [
    {
     "data": {
      "text/plain": [
       "<matplotlib.collections.PathCollection at 0x2183212f048>"
      ]
     },
     "execution_count": 35,
     "metadata": {},
     "output_type": "execute_result"
    },
    {
     "data": {
      "image/png": "[encoded data removed]",
      "text/plain": [
       "<Figure size 432x288 with 1 Axes>"
      ]
     },
     "metadata": {
      "needs_background": "light"
     },
     "output_type": "display_data"
    }
   ],
   "source": [
    "plt.scatter( full_diff_change[18900:19200] , mid_price_diff[18900:19200] )"
   ]
  },
  {
   "cell_type": "code",
   "execution_count": 36,
   "metadata": {},
   "outputs": [
    {
     "data": {
      "text/plain": [
       "LinregressResult(slope=1.7385391894450831e-06, intercept=-0.0003789107230659234, rvalue=0.06345943947724526, pvalue=0.2732250405916298, stderr=1.5838129211610042e-06)"
      ]
     },
     "execution_count": 36,
     "metadata": {},
     "output_type": "execute_result"
    }
   ],
   "source": [
    "lin = scipy.stats.linregress( full_diff_change[21000:21300] , mid_price_diff[21000:21300] ) \n",
    "lin"
   ]
  },
  {
   "cell_type": "code",
   "execution_count": 37,
   "metadata": {},
   "outputs": [
    {
     "data": {
      "text/plain": [
       "<matplotlib.collections.PathCollection at 0x218321925c8>"
      ]
     },
     "execution_count": 37,
     "metadata": {},
     "output_type": "execute_result"
    },
    {
     "data": {
      "image/png": "[encoded data removed]",
      "text/plain": [
       "<Figure size 432x288 with 1 Axes>"
      ]
     },
     "metadata": {
      "needs_background": "light"
     },
     "output_type": "display_data"
    }
   ],
   "source": [
    "plt.scatter( full_diff_change[21000:21300] , mid_price_diff[21000:21300] )"
   ]
  },
  {
   "cell_type": "code",
   "execution_count": 38,
   "metadata": {},
   "outputs": [
    {
     "data": {
      "text/plain": [
       "LinregressResult(slope=2.897591283168724e-06, intercept=-0.004613117787782958, rvalue=0.03909974326423739, pvalue=0.49989291489346765, stderr=4.289659910617486e-06)"
      ]
     },
     "execution_count": 38,
     "metadata": {},
     "output_type": "execute_result"
    }
   ],
   "source": [
    "lin = scipy.stats.linregress( full_diff_change[23100:23400] , mid_price_diff[23100:23400] ) \n",
    "lin"
   ]
  },
  {
   "cell_type": "code",
   "execution_count": 39,
   "metadata": {},
   "outputs": [
    {
     "data": {
      "text/plain": [
       "<matplotlib.collections.PathCollection at 0x218321ff8c8>"
      ]
     },
     "execution_count": 39,
     "metadata": {},
     "output_type": "execute_result"
    },
    {
     "data": {
      "image/png": "[encoded data removed]",
      "text/plain": [
       "<Figure size 432x288 with 1 Axes>"
      ]
     },
     "metadata": {
      "needs_background": "light"
     },
     "output_type": "display_data"
    }
   ],
   "source": [
    "\n",
    "plt.scatter( full_diff_change[23100:23400] , mid_price_diff[23100:23400] )"
   ]
  },
  {
   "cell_type": "code",
   "execution_count": 40,
   "metadata": {},
   "outputs": [
    {
     "data": {
      "text/plain": [
       "LinregressResult(slope=-0.0005071480273652981, intercept=-0.015056535905244195, rvalue=-0.86423983856487, pvalue=0.0, stderr=1.6910026624779236e-06)"
      ]
     },
     "execution_count": 40,
     "metadata": {},
     "output_type": "execute_result"
    }
   ],
   "source": [
    "lin = scipy.stats.linregress( full_diff_change , mid_price_diff ) \n",
    "lin"
   ]
  },
  {
   "cell_type": "code",
   "execution_count": 41,
   "metadata": {},
   "outputs": [
    {
     "data": {
      "text/plain": [
       "<matplotlib.collections.PathCollection at 0x21832271d88>"
      ]
     },
     "execution_count": 41,
     "metadata": {},
     "output_type": "execute_result"
    },
    {
     "data": {
      "image/png": "[encoded data removed]",
      "text/plain": [
       "<Figure size 432x288 with 1 Axes>"
      ]
     },
     "metadata": {
      "needs_background": "light"
     },
     "output_type": "display_data"
    }
   ],
   "source": [
    "plt.scatter( full_diff_change , mid_price_diff  )"
   ]
  },
  {
   "cell_type": "code",
   "execution_count": null,
   "metadata": {},
   "outputs": [],
   "source": []
  },
  {
   "cell_type": "code",
   "execution_count": null,
   "metadata": {},
   "outputs": [],
   "source": []
  },
  {
   "cell_type": "code",
   "execution_count": null,
   "metadata": {},
   "outputs": [],
   "source": []
  },
  {
   "cell_type": "code",
   "execution_count": null,
   "metadata": {},
   "outputs": [],
   "source": []
  },
  {
   "cell_type": "code",
   "execution_count": null,
   "metadata": {},
   "outputs": [],
   "source": []
  },
  {
   "cell_type": "code",
   "execution_count": null,
   "metadata": {},
   "outputs": [],
   "source": []
  }
 ],
 "metadata": {
  "kernelspec": {
   "display_name": "Python 3",
   "language": "python",
   "name": "python3"
  },
  "language_info": {
   "codemirror_mode": {
    "name": "ipython",
    "version": 3
   },
   "file_extension": ".py",
   "mimetype": "text/x-python",
   "name": "python",
   "nbconvert_exporter": "python",
   "pygments_lexer": "ipython3",
   "version": "3.8.10"
  }
 },
 "nbformat": 4,
 "nbformat_minor": 4
}

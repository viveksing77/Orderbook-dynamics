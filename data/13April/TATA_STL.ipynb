{
 "cells": [
  {
   "cell_type": "code",
   "execution_count": 1,
   "metadata": {},
   "outputs": [
    {
     "name": "stderr",
     "output_type": "stream",
     "text": [
      "c:\\users\\vivek\\appdata\\local\\programs\\python\\python37\\lib\\site-packages\\statsmodels\\tools\\_testing.py:19: FutureWarning: pandas.util.testing is deprecated. Use the functions in the public API at pandas.testing instead.\n",
      "  import pandas.util.testing as tm\n"
     ]
    }
   ],
   "source": [
    "import pandas as pd\n",
    "import seaborn as sns\n",
    "import scipy.stats\n",
    "import numpy as np\n",
    "import matplotlib.pyplot as plt"
   ]
  },
  {
   "cell_type": "code",
   "execution_count": 2,
   "metadata": {},
   "outputs": [],
   "source": [
    "df = pd.read_csv('Downloads/13April/TATA_STL_new.csv')"
   ]
  },
  {
   "cell_type": "code",
   "execution_count": 3,
   "metadata": {},
   "outputs": [],
   "source": [
    "del df['Unnamed: 0']"
   ]
  },
  {
   "cell_type": "code",
   "execution_count": 4,
   "metadata": {},
   "outputs": [],
   "source": [
    "buy = df['buy']\n",
    "sell = df['sell']\n",
    "last_price = df['last_price']\n",
    "last_quantity = df['last_quantity']\n",
    "change = df['change']\n",
    "#average_price = df['average_price']\n",
    "buy_quantity = df['buy_quantity']\n",
    "sell_quantity = df['sell_quantity']\n",
    "#agg_vol = df['agg_vol']\n",
    "last_trade_time_ = df['last_trade_time_']\n",
    "bid_qty_1 = df['bid_qty_1']\n",
    "bid_price_1 = df['bid_price_1']\n",
    "bid_order_1 = df['bid_order_1']\n",
    "bid_qty_2 = df['bid_qty_2']\n",
    "bid_price_2 = df['bid_price_2']\n",
    "bid_order_2 = df['bid_order_2']\n",
    "bid_qty_3 = df['bid_qty_3']\n",
    "bid_price_3 = df['bid_price_3']\n",
    "bid_order_3 = df['bid_order_3']\n",
    "bid_qty_4 = df['bid_qty_4']\n",
    "bid_price_4 = df['bid_price_4']\n",
    "bid_order_4 = df['bid_order_4']\n",
    "bid_qty_5 = df['bid_qty_5']\n",
    "bid_price_5 = df['bid_price_5']\n",
    "bid_order_5 = df['bid_order_5']\n",
    "ask_qty_1 = df['ask_qty_1']\n",
    "ask_price_1 = df['ask_price_1']\n",
    "ask_order_1 = df['ask_order_1']\n",
    "ask_qty_2 = df['ask_qty_2']\n",
    "ask_price_2 = df['ask_price_2']\n",
    "ask_order_2 = df['ask_order_2']\n",
    "ask_qty_3 = df['ask_qty_3']\n",
    "ask_price_3 = df['ask_price_3']\n",
    "ask_order_3 = df['ask_order_3']\n",
    "ask_qty_4 = df['ask_qty_4']\n",
    "ask_price_4 = df['ask_price_4']\n",
    "ask_order_4 = df['ask_order_4']\n",
    "ask_qty_5 = df['ask_qty_5']\n",
    "ask_price_5 = df['ask_price_5']\n",
    "ask_order_5 = df['ask_order_5']\n",
    "total_bid_qty = df['total_bid_qty']\n",
    "\n",
    "\n",
    "\n",
    "total_ask_qty = df['total_ask_qty']\n",
    "OI = df['OI']\n",
    "CR = df['CR']\n",
    "ratio = df['ratio']\n",
    "reverse = df['reverse']\n",
    "change_ratio = df['change_ratio']\n",
    "change_reverse = df['change_reverse']\n",
    "RC_CR = df['RC_CR']\n",
    "OI_new = df['OI_new']\n",
    "diff = df['diff']\n",
    "\n",
    "full_diff = df['full_diff']\n",
    "mid_price = df['mid_price']"
   ]
  },
  {
   "cell_type": "code",
   "execution_count": 5,
   "metadata": {},
   "outputs": [],
   "source": [
    "mid_price_diff = []\n",
    "for i in range(len(mid_price)-1):\n",
    "    x = mid_price[i+1] - mid_price[i]\n",
    "    mid_price_diff.append(x)"
   ]
  },
  {
   "cell_type": "code",
   "execution_count": 6,
   "metadata": {},
   "outputs": [],
   "source": [
    "full_diff_change = []\n",
    "for i in range(len(full_diff)-1):\n",
    "    x = full_diff[i+1] - full_diff[i]\n",
    "    full_diff_change.append(x)"
   ]
  },
  {
   "cell_type": "code",
   "execution_count": 7,
   "metadata": {},
   "outputs": [
    {
     "data": {
      "text/plain": [
       "LinregressResult(slope=1.5826771963671362e-05, intercept=0.01785735681378637, rvalue=0.6131551223889404, pvalue=2.297527815332955e-32, stderr=1.1811915819461734e-06)"
      ]
     },
     "execution_count": 7,
     "metadata": {},
     "output_type": "execute_result"
    }
   ],
   "source": [
    "lin = scipy.stats.linregress( full_diff_change[:300] , mid_price_diff[:300] ) \n",
    "lin"
   ]
  },
  {
   "cell_type": "code",
   "execution_count": 8,
   "metadata": {},
   "outputs": [
    {
     "data": {
      "text/plain": [
       "<matplotlib.collections.PathCollection at 0x17d142e2308>"
      ]
     },
     "execution_count": 8,
     "metadata": {},
     "output_type": "execute_result"
    },
    {
     "data": {
      "image/png": "[encoded data removed]",
      "text/plain": [
       "<Figure size 432x288 with 1 Axes>"
      ]
     },
     "metadata": {
      "needs_background": "light"
     },
     "output_type": "display_data"
    }
   ],
   "source": [
    "plt.scatter(full_diff_change[:300] , mid_price_diff[:300])\n"
   ]
  },
  {
   "cell_type": "code",
   "execution_count": 9,
   "metadata": {},
   "outputs": [
    {
     "data": {
      "text/plain": [
       "LinregressResult(slope=1.3808836681000777e-05, intercept=-0.004273675750645842, rvalue=0.7540859003832011, pvalue=2.3782871530497244e-56, stderr=6.966991559047293e-07)"
      ]
     },
     "execution_count": 9,
     "metadata": {},
     "output_type": "execute_result"
    }
   ],
   "source": [
    "lin = scipy.stats.linregress( full_diff_change[2100:2400] , mid_price_diff[2100:2400] ) \n",
    "lin"
   ]
  },
  {
   "cell_type": "code",
   "execution_count": 10,
   "metadata": {},
   "outputs": [
    {
     "data": {
      "text/plain": [
       "<matplotlib.collections.PathCollection at 0x17d16fde488>"
      ]
     },
     "execution_count": 10,
     "metadata": {},
     "output_type": "execute_result"
    },
    {
     "data": {
      "image/png": "[encoded data removed]",
      "text/plain": [
       "<Figure size 432x288 with 1 Axes>"
      ]
     },
     "metadata": {
      "needs_background": "light"
     },
     "output_type": "display_data"
    }
   ],
   "source": [
    "plt.scatter(full_diff_change[2100:2400] , mid_price_diff[2100:2400] )"
   ]
  },
  {
   "cell_type": "code",
   "execution_count": 11,
   "metadata": {},
   "outputs": [
    {
     "data": {
      "text/plain": [
       "LinregressResult(slope=1.3667259183311802e-05, intercept=-0.0005789547937907235, rvalue=0.6098904658057597, pvalue=5.973870078823658e-32, stderr=1.0287572303079745e-06)"
      ]
     },
     "execution_count": 11,
     "metadata": {},
     "output_type": "execute_result"
    }
   ],
   "source": [
    "lin = scipy.stats.linregress( full_diff_change[4200:4500] , mid_price_diff[4200:4500] ) \n",
    "lin"
   ]
  },
  {
   "cell_type": "code",
   "execution_count": 12,
   "metadata": {},
   "outputs": [
    {
     "data": {
      "text/plain": [
       "<matplotlib.collections.PathCollection at 0x17d17084e88>"
      ]
     },
     "execution_count": 12,
     "metadata": {},
     "output_type": "execute_result"
    },
    {
     "data": {
      "image/png": "[encoded data removed]",
      "text/plain": [
       "<Figure size 432x288 with 1 Axes>"
      ]
     },
     "metadata": {
      "needs_background": "light"
     },
     "output_type": "display_data"
    }
   ],
   "source": [
    "plt.scatter(full_diff_change[4200:4500] , mid_price_diff[4200:4500])"
   ]
  },
  {
   "cell_type": "code",
   "execution_count": 13,
   "metadata": {},
   "outputs": [
    {
     "data": {
      "text/plain": [
       "LinregressResult(slope=1.0395566147781528e-05, intercept=0.0026048689860075397, rvalue=0.588988763774751, pvalue=2.1031973335162515e-29, stderr=8.262667277972591e-07)"
      ]
     },
     "execution_count": 13,
     "metadata": {},
     "output_type": "execute_result"
    }
   ],
   "source": [
    "lin = scipy.stats.linregress( full_diff_change[6300:6600] , mid_price_diff[6300:6600] ) \n",
    "lin"
   ]
  },
  {
   "cell_type": "code",
   "execution_count": 14,
   "metadata": {},
   "outputs": [
    {
     "data": {
      "text/plain": [
       "<matplotlib.collections.PathCollection at 0x17d19bdcf88>"
      ]
     },
     "execution_count": 14,
     "metadata": {},
     "output_type": "execute_result"
    },
    {
     "data": {
      "image/png": "[encoded data removed]",
      "text/plain": [
       "<Figure size 432x288 with 1 Axes>"
      ]
     },
     "metadata": {
      "needs_background": "light"
     },
     "output_type": "display_data"
    }
   ],
   "source": [
    "plt.scatter( full_diff_change[6300:6600] , mid_price_diff[6300:6600] )"
   ]
  },
  {
   "cell_type": "code",
   "execution_count": 15,
   "metadata": {},
   "outputs": [
    {
     "data": {
      "text/plain": [
       "LinregressResult(slope=1.4023864767437225e-05, intercept=0.0015257912163959206, rvalue=0.7145809004637537, pvalue=3.677482271780759e-48, stderr=7.952957941234566e-07)"
      ]
     },
     "execution_count": 15,
     "metadata": {},
     "output_type": "execute_result"
    }
   ],
   "source": [
    "lin = scipy.stats.linregress( full_diff_change[8400:8700] , mid_price_diff[8400:8700] ) \n",
    "lin"
   ]
  },
  {
   "cell_type": "code",
   "execution_count": 16,
   "metadata": {},
   "outputs": [
    {
     "data": {
      "text/plain": [
       "<matplotlib.collections.PathCollection at 0x17d1713da48>"
      ]
     },
     "execution_count": 16,
     "metadata": {},
     "output_type": "execute_result"
    },
    {
     "data": {
      "image/png": "[encoded data removed]",
      "text/plain": [
       "<Figure size 432x288 with 1 Axes>"
      ]
     },
     "metadata": {
      "needs_background": "light"
     },
     "output_type": "display_data"
    }
   ],
   "source": [
    "plt.scatter( full_diff_change[8400:8700] , mid_price_diff[8400:8700] )"
   ]
  },
  {
   "cell_type": "code",
   "execution_count": 17,
   "metadata": {},
   "outputs": [
    {
     "data": {
      "text/plain": [
       "LinregressResult(slope=8.203677212743874e-06, intercept=0.002748888248191971, rvalue=0.552797697158535, pvalue=2.0887616172010044e-25, stderr=7.163803445931721e-07)"
      ]
     },
     "execution_count": 17,
     "metadata": {},
     "output_type": "execute_result"
    }
   ],
   "source": [
    "lin = scipy.stats.linregress( full_diff_change[10500:10800] , mid_price_diff[10500:10800] ) \n",
    "lin"
   ]
  },
  {
   "cell_type": "code",
   "execution_count": 18,
   "metadata": {},
   "outputs": [
    {
     "data": {
      "text/plain": [
       "<matplotlib.collections.PathCollection at 0x17d171bf508>"
      ]
     },
     "execution_count": 18,
     "metadata": {},
     "output_type": "execute_result"
    },
    {
     "data": {
      "image/png": "[encoded data removed]",
      "text/plain": [
       "<Figure size 432x288 with 1 Axes>"
      ]
     },
     "metadata": {
      "needs_background": "light"
     },
     "output_type": "display_data"
    }
   ],
   "source": [
    "plt.scatter( full_diff_change[10500:10800] , mid_price_diff[10500:10800] )"
   ]
  },
  {
   "cell_type": "code",
   "execution_count": 19,
   "metadata": {},
   "outputs": [
    {
     "data": {
      "text/plain": [
       "LinregressResult(slope=1.1388884868124867e-05, intercept=-0.0020708887322826624, rvalue=0.6089123142151776, pvalue=7.937078972104477e-32, stderr=8.59451892371486e-07)"
      ]
     },
     "execution_count": 19,
     "metadata": {},
     "output_type": "execute_result"
    }
   ],
   "source": [
    "lin = scipy.stats.linregress( full_diff_change[12600:12900] , mid_price_diff[12600:12900] ) \n",
    "lin"
   ]
  },
  {
   "cell_type": "code",
   "execution_count": 20,
   "metadata": {},
   "outputs": [
    {
     "data": {
      "text/plain": [
       "<matplotlib.collections.PathCollection at 0x17d17256a48>"
      ]
     },
     "execution_count": 20,
     "metadata": {},
     "output_type": "execute_result"
    },
    {
     "data": {
      "image/png": "[encoded data removed]",
      "text/plain": [
       "<Figure size 432x288 with 1 Axes>"
      ]
     },
     "metadata": {
      "needs_background": "light"
     },
     "output_type": "display_data"
    }
   ],
   "source": [
    "plt.scatter( full_diff_change[12600:12900] , mid_price_diff[12600:12900] )"
   ]
  },
  {
   "cell_type": "code",
   "execution_count": 21,
   "metadata": {},
   "outputs": [
    {
     "data": {
      "text/plain": [
       "LinregressResult(slope=1.1998103118884075e-05, intercept=-0.0009932772596894998, rvalue=0.6256723140533411, pvalue=5.300995029433674e-34, stderr=8.665627165536596e-07)"
      ]
     },
     "execution_count": 21,
     "metadata": {},
     "output_type": "execute_result"
    }
   ],
   "source": [
    "lin = scipy.stats.linregress( full_diff_change[14700:15000] , mid_price_diff[14700:15000] ) \n",
    "lin"
   ]
  },
  {
   "cell_type": "code",
   "execution_count": 22,
   "metadata": {},
   "outputs": [
    {
     "data": {
      "text/plain": [
       "<matplotlib.collections.PathCollection at 0x17d1728cd08>"
      ]
     },
     "execution_count": 22,
     "metadata": {},
     "output_type": "execute_result"
    },
    {
     "data": {
      "image/png": "[encoded data removed]",
      "text/plain": [
       "<Figure size 432x288 with 1 Axes>"
      ]
     },
     "metadata": {
      "needs_background": "light"
     },
     "output_type": "display_data"
    }
   ],
   "source": [
    "plt.scatter( full_diff_change[14700:15000] , mid_price_diff[14700:15000] )"
   ]
  },
  {
   "cell_type": "code",
   "execution_count": 23,
   "metadata": {},
   "outputs": [
    {
     "data": {
      "text/plain": [
       "LinregressResult(slope=4.303165655133558e-06, intercept=0.00025756976867646333, rvalue=0.30439313513299043, pvalue=7.515132441644378e-08, stderr=7.800658420928267e-07)"
      ]
     },
     "execution_count": 23,
     "metadata": {},
     "output_type": "execute_result"
    }
   ],
   "source": [
    "lin = scipy.stats.linregress( full_diff_change[16800:17100] , mid_price_diff[16800:17100] ) \n",
    "lin"
   ]
  },
  {
   "cell_type": "code",
   "execution_count": 24,
   "metadata": {},
   "outputs": [
    {
     "data": {
      "text/plain": [
       "<matplotlib.collections.PathCollection at 0x17d17287048>"
      ]
     },
     "execution_count": 24,
     "metadata": {},
     "output_type": "execute_result"
    },
    {
     "data": {
      "image/png": "[encoded data removed]",
      "text/plain": [
       "<Figure size 432x288 with 1 Axes>"
      ]
     },
     "metadata": {
      "needs_background": "light"
     },
     "output_type": "display_data"
    }
   ],
   "source": [
    "plt.scatter( full_diff_change[16800:17100] , mid_price_diff[16800:17100] )"
   ]
  },
  {
   "cell_type": "code",
   "execution_count": 25,
   "metadata": {},
   "outputs": [
    {
     "data": {
      "text/plain": [
       "LinregressResult(slope=1.2455233431350731e-05, intercept=-0.0008837234660016005, rvalue=0.671134056544396, pvalue=1.2601085064624375e-40, stderr=7.969839167873237e-07)"
      ]
     },
     "execution_count": 25,
     "metadata": {},
     "output_type": "execute_result"
    }
   ],
   "source": [
    "lin = scipy.stats.linregress( full_diff_change[18900:19200] , mid_price_diff[18900:19200] ) \n",
    "lin"
   ]
  },
  {
   "cell_type": "code",
   "execution_count": 26,
   "metadata": {},
   "outputs": [
    {
     "data": {
      "text/plain": [
       "<matplotlib.collections.PathCollection at 0x17d173781c8>"
      ]
     },
     "execution_count": 26,
     "metadata": {},
     "output_type": "execute_result"
    },
    {
     "data": {
      "image/png": "[encoded data removed]",
      "text/plain": [
       "<Figure size 432x288 with 1 Axes>"
      ]
     },
     "metadata": {
      "needs_background": "light"
     },
     "output_type": "display_data"
    }
   ],
   "source": [
    "plt.scatter( full_diff_change[18900:19200] , mid_price_diff[18900:19200] )"
   ]
  },
  {
   "cell_type": "code",
   "execution_count": 27,
   "metadata": {},
   "outputs": [
    {
     "data": {
      "text/plain": [
       "LinregressResult(slope=1.076053376080889e-05, intercept=0.001218265628534107, rvalue=0.5851071218467562, pvalue=5.966080840313603e-29, stderr=8.639479862594601e-07)"
      ]
     },
     "execution_count": 27,
     "metadata": {},
     "output_type": "execute_result"
    }
   ],
   "source": [
    "lin = scipy.stats.linregress( full_diff_change[21000:21300] , mid_price_diff[21000:21300] ) \n",
    "lin"
   ]
  },
  {
   "cell_type": "code",
   "execution_count": 28,
   "metadata": {},
   "outputs": [
    {
     "data": {
      "text/plain": [
       "<matplotlib.collections.PathCollection at 0x17d173daf48>"
      ]
     },
     "execution_count": 28,
     "metadata": {},
     "output_type": "execute_result"
    },
    {
     "data": {
      "image/png": "[encoded data removed]",
      "text/plain": [
       "<Figure size 432x288 with 1 Axes>"
      ]
     },
     "metadata": {
      "needs_background": "light"
     },
     "output_type": "display_data"
    }
   ],
   "source": [
    "plt.scatter( full_diff_change[21000:21300] , mid_price_diff[21000:21300] )"
   ]
  },
  {
   "cell_type": "code",
   "execution_count": 29,
   "metadata": {},
   "outputs": [
    {
     "data": {
      "text/plain": [
       "LinregressResult(slope=1.1303716370836097e-05, intercept=-0.0009172286900751448, rvalue=0.6230752990406391, pvalue=1.1750913246759395e-33, stderr=8.219950814397678e-07)"
      ]
     },
     "execution_count": 29,
     "metadata": {},
     "output_type": "execute_result"
    }
   ],
   "source": [
    "lin = scipy.stats.linregress( full_diff_change[23100:23400] , mid_price_diff[23100:23400] ) \n",
    "lin"
   ]
  },
  {
   "cell_type": "code",
   "execution_count": 30,
   "metadata": {},
   "outputs": [
    {
     "data": {
      "text/plain": [
       "<matplotlib.collections.PathCollection at 0x17d174326c8>"
      ]
     },
     "execution_count": 30,
     "metadata": {},
     "output_type": "execute_result"
    },
    {
     "data": {
      "image/png": "[encoded data removed]",
      "text/plain": [
       "<Figure size 432x288 with 1 Axes>"
      ]
     },
     "metadata": {
      "needs_background": "light"
     },
     "output_type": "display_data"
    }
   ],
   "source": [
    "plt.scatter( full_diff_change[23100:23400] , mid_price_diff[23100:23400] )"
   ]
  },
  {
   "cell_type": "code",
   "execution_count": 31,
   "metadata": {},
   "outputs": [
    {
     "data": {
      "text/plain": [
       "LinregressResult(slope=1.1969001353541372e-05, intercept=-0.00478394631467497, rvalue=0.05363147122085537, pvalue=2.3138452819851596e-20, stderr=1.2934555414930557e-06)"
      ]
     },
     "execution_count": 31,
     "metadata": {},
     "output_type": "execute_result"
    }
   ],
   "source": [
    "lin = scipy.stats.linregress( full_diff_change , mid_price_diff ) \n",
    "lin"
   ]
  },
  {
   "cell_type": "code",
   "execution_count": 32,
   "metadata": {},
   "outputs": [
    {
     "data": {
      "text/plain": [
       "<matplotlib.collections.PathCollection at 0x17d1747d1c8>"
      ]
     },
     "execution_count": 32,
     "metadata": {},
     "output_type": "execute_result"
    },
    {
     "data": {
      "image/png": "[encoded data removed]",
      "text/plain": [
       "<Figure size 432x288 with 1 Axes>"
      ]
     },
     "metadata": {
      "needs_background": "light"
     },
     "output_type": "display_data"
    }
   ],
   "source": [
    "plt.scatter( full_diff_change , mid_price_diff  )"
   ]
  },
  {
   "cell_type": "code",
   "execution_count": null,
   "metadata": {},
   "outputs": [],
   "source": []
  },
  {
   "cell_type": "code",
   "execution_count": null,
   "metadata": {},
   "outputs": [],
   "source": []
  },
  {
   "cell_type": "code",
   "execution_count": null,
   "metadata": {},
   "outputs": [],
   "source": []
  },
  {
   "cell_type": "code",
   "execution_count": null,
   "metadata": {},
   "outputs": [],
   "source": []
  },
  {
   "cell_type": "code",
   "execution_count": null,
   "metadata": {},
   "outputs": [],
   "source": []
  },
  {
   "cell_type": "code",
   "execution_count": null,
   "metadata": {},
   "outputs": [],
   "source": []
  },
  {
   "cell_type": "code",
   "execution_count": null,
   "metadata": {},
   "outputs": [],
   "source": []
  },
  {
   "cell_type": "code",
   "execution_count": null,
   "metadata": {},
   "outputs": [],
   "source": []
  }
 ],
 "metadata": {
  "kernelspec": {
   "display_name": "Python 3",
   "language": "python",
   "name": "python3"
  },
  "language_info": {
   "codemirror_mode": {
    "name": "ipython",
    "version": 3
   },
   "file_extension": ".py",
   "mimetype": "text/x-python",
   "name": "python",
   "nbconvert_exporter": "python",
   "pygments_lexer": "ipython3",
   "version": "3.8.10"
  }
 },
 "nbformat": 4,
 "nbformat_minor": 4
}
